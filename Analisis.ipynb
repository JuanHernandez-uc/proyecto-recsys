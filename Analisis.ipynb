{
  "cells": [
    {
      "cell_type": "code",
      "source": [
        "!pip install numpy==1.23.5\n",
        "!pip install scikit-surprise\n",
        "!pip install lightfm"
      ],
      "metadata": {
        "colab": {
          "base_uri": "https://localhost:8080/"
        },
        "id": "RIF1Wv6eLhTt",
        "outputId": "441177be-6c1d-4f81-efec-920bcc2075c6"
      },
      "id": "RIF1Wv6eLhTt",
      "execution_count": 171,
      "outputs": [
        {
          "output_type": "stream",
          "name": "stdout",
          "text": [
            "Requirement already satisfied: numpy==1.23.5 in /usr/local/lib/python3.11/dist-packages (1.23.5)\n",
            "Requirement already satisfied: scikit-surprise in /usr/local/lib/python3.11/dist-packages (1.1.4)\n",
            "Requirement already satisfied: joblib>=1.2.0 in /usr/local/lib/python3.11/dist-packages (from scikit-surprise) (1.4.2)\n",
            "Requirement already satisfied: numpy>=1.19.5 in /usr/local/lib/python3.11/dist-packages (from scikit-surprise) (1.23.5)\n",
            "Requirement already satisfied: scipy>=1.6.0 in /usr/local/lib/python3.11/dist-packages (from scikit-surprise) (1.15.2)\n",
            "Requirement already satisfied: lightfm in /usr/local/lib/python3.11/dist-packages (1.17)\n",
            "Requirement already satisfied: numpy in /usr/local/lib/python3.11/dist-packages (from lightfm) (1.23.5)\n",
            "Requirement already satisfied: scipy>=0.17.0 in /usr/local/lib/python3.11/dist-packages (from lightfm) (1.15.2)\n",
            "Requirement already satisfied: requests in /usr/local/lib/python3.11/dist-packages (from lightfm) (2.32.3)\n",
            "Requirement already satisfied: scikit-learn in /usr/local/lib/python3.11/dist-packages (from lightfm) (1.6.1)\n",
            "Requirement already satisfied: charset-normalizer<4,>=2 in /usr/local/lib/python3.11/dist-packages (from requests->lightfm) (3.4.1)\n",
            "Requirement already satisfied: idna<4,>=2.5 in /usr/local/lib/python3.11/dist-packages (from requests->lightfm) (3.10)\n",
            "Requirement already satisfied: urllib3<3,>=1.21.1 in /usr/local/lib/python3.11/dist-packages (from requests->lightfm) (2.4.0)\n",
            "Requirement already satisfied: certifi>=2017.4.17 in /usr/local/lib/python3.11/dist-packages (from requests->lightfm) (2025.4.26)\n",
            "Requirement already satisfied: joblib>=1.2.0 in /usr/local/lib/python3.11/dist-packages (from scikit-learn->lightfm) (1.4.2)\n",
            "Requirement already satisfied: threadpoolctl>=3.1.0 in /usr/local/lib/python3.11/dist-packages (from scikit-learn->lightfm) (3.6.0)\n"
          ]
        }
      ]
    },
    {
      "cell_type": "code",
      "execution_count": 172,
      "id": "42a6924e",
      "metadata": {
        "id": "42a6924e"
      },
      "outputs": [],
      "source": [
        "import pandas as pd\n",
        "import seaborn as sns\n",
        "import matplotlib.pyplot as plt\n",
        "import numpy as np\n",
        "from surprise import Dataset, Reader\n",
        "from surprise.model_selection import train_test_split"
      ]
    },
    {
      "cell_type": "code",
      "execution_count": 173,
      "id": "b285de36",
      "metadata": {
        "id": "b285de36"
      },
      "outputs": [],
      "source": [
        "size = \"small\"\n",
        "\n",
        "df_behaviors = pd.read_csv(f\"MIND{size}_train/behaviors.tsv\", sep=\"\\t\", names=['ImpressionID', 'UserID', 'Time', 'History', 'Impressions'])\n",
        "df_news = pd.read_csv(f\"MIND{size}_train/news.tsv\", sep=\"\\t\", names=['NewsID', 'Category', 'SubCategory', 'Title', 'Abstract', 'URL', 'TitleEntities', 'AbstractEntities'])"
      ]
    },
    {
      "cell_type": "code",
      "execution_count": 174,
      "id": "af5bae0b",
      "metadata": {
        "colab": {
          "base_uri": "https://localhost:8080/",
          "height": 293
        },
        "id": "af5bae0b",
        "outputId": "33b8e1e4-a5f6-4faf-efec-134c15c87beb"
      },
      "outputs": [
        {
          "output_type": "execute_result",
          "data": {
            "text/plain": [
              "   ImpressionID  UserID                   Time  \\\n",
              "0             1  U13740  11/11/2019 9:05:58 AM   \n",
              "1             2  U91836  11/12/2019 6:11:30 PM   \n",
              "2             3  U73700  11/14/2019 7:01:48 AM   \n",
              "3             4  U34670  11/11/2019 5:28:05 AM   \n",
              "4             5   U8125  11/12/2019 4:11:21 PM   \n",
              "\n",
              "                                             History  \\\n",
              "0  N55189 N42782 N34694 N45794 N18445 N63302 N104...   \n",
              "1  N31739 N6072 N63045 N23979 N35656 N43353 N8129...   \n",
              "2  N10732 N25792 N7563 N21087 N41087 N5445 N60384...   \n",
              "3  N45729 N2203 N871 N53880 N41375 N43142 N33013 ...   \n",
              "4                        N10078 N56514 N14904 N33740   \n",
              "\n",
              "                                         Impressions  \n",
              "0                                  N55689-1 N35729-0  \n",
              "1  N20678-0 N39317-0 N58114-0 N20495-0 N42977-0 N...  \n",
              "2  N50014-0 N23877-0 N35389-0 N49712-0 N16844-0 N...  \n",
              "3                N35729-0 N33632-0 N49685-1 N27581-0  \n",
              "4  N39985-0 N36050-0 N16096-0 N8400-1 N22407-0 N6...  "
            ],
            "text/html": [
              "\n",
              "  <div id=\"df-e41cf9d0-f9b4-40bc-b526-9fe0f3aacd52\" class=\"colab-df-container\">\n",
              "    <div>\n",
              "<style scoped>\n",
              "    .dataframe tbody tr th:only-of-type {\n",
              "        vertical-align: middle;\n",
              "    }\n",
              "\n",
              "    .dataframe tbody tr th {\n",
              "        vertical-align: top;\n",
              "    }\n",
              "\n",
              "    .dataframe thead th {\n",
              "        text-align: right;\n",
              "    }\n",
              "</style>\n",
              "<table border=\"1\" class=\"dataframe\">\n",
              "  <thead>\n",
              "    <tr style=\"text-align: right;\">\n",
              "      <th></th>\n",
              "      <th>ImpressionID</th>\n",
              "      <th>UserID</th>\n",
              "      <th>Time</th>\n",
              "      <th>History</th>\n",
              "      <th>Impressions</th>\n",
              "    </tr>\n",
              "  </thead>\n",
              "  <tbody>\n",
              "    <tr>\n",
              "      <th>0</th>\n",
              "      <td>1</td>\n",
              "      <td>U13740</td>\n",
              "      <td>11/11/2019 9:05:58 AM</td>\n",
              "      <td>N55189 N42782 N34694 N45794 N18445 N63302 N104...</td>\n",
              "      <td>N55689-1 N35729-0</td>\n",
              "    </tr>\n",
              "    <tr>\n",
              "      <th>1</th>\n",
              "      <td>2</td>\n",
              "      <td>U91836</td>\n",
              "      <td>11/12/2019 6:11:30 PM</td>\n",
              "      <td>N31739 N6072 N63045 N23979 N35656 N43353 N8129...</td>\n",
              "      <td>N20678-0 N39317-0 N58114-0 N20495-0 N42977-0 N...</td>\n",
              "    </tr>\n",
              "    <tr>\n",
              "      <th>2</th>\n",
              "      <td>3</td>\n",
              "      <td>U73700</td>\n",
              "      <td>11/14/2019 7:01:48 AM</td>\n",
              "      <td>N10732 N25792 N7563 N21087 N41087 N5445 N60384...</td>\n",
              "      <td>N50014-0 N23877-0 N35389-0 N49712-0 N16844-0 N...</td>\n",
              "    </tr>\n",
              "    <tr>\n",
              "      <th>3</th>\n",
              "      <td>4</td>\n",
              "      <td>U34670</td>\n",
              "      <td>11/11/2019 5:28:05 AM</td>\n",
              "      <td>N45729 N2203 N871 N53880 N41375 N43142 N33013 ...</td>\n",
              "      <td>N35729-0 N33632-0 N49685-1 N27581-0</td>\n",
              "    </tr>\n",
              "    <tr>\n",
              "      <th>4</th>\n",
              "      <td>5</td>\n",
              "      <td>U8125</td>\n",
              "      <td>11/12/2019 4:11:21 PM</td>\n",
              "      <td>N10078 N56514 N14904 N33740</td>\n",
              "      <td>N39985-0 N36050-0 N16096-0 N8400-1 N22407-0 N6...</td>\n",
              "    </tr>\n",
              "  </tbody>\n",
              "</table>\n",
              "</div>\n",
              "    <div class=\"colab-df-buttons\">\n",
              "\n",
              "  <div class=\"colab-df-container\">\n",
              "    <button class=\"colab-df-convert\" onclick=\"convertToInteractive('df-e41cf9d0-f9b4-40bc-b526-9fe0f3aacd52')\"\n",
              "            title=\"Convert this dataframe to an interactive table.\"\n",
              "            style=\"display:none;\">\n",
              "\n",
              "  <svg xmlns=\"http://www.w3.org/2000/svg\" height=\"24px\" viewBox=\"0 -960 960 960\">\n",
              "    <path d=\"M120-120v-720h720v720H120Zm60-500h600v-160H180v160Zm220 220h160v-160H400v160Zm0 220h160v-160H400v160ZM180-400h160v-160H180v160Zm440 0h160v-160H620v160ZM180-180h160v-160H180v160Zm440 0h160v-160H620v160Z\"/>\n",
              "  </svg>\n",
              "    </button>\n",
              "\n",
              "  <style>\n",
              "    .colab-df-container {\n",
              "      display:flex;\n",
              "      gap: 12px;\n",
              "    }\n",
              "\n",
              "    .colab-df-convert {\n",
              "      background-color: #E8F0FE;\n",
              "      border: none;\n",
              "      border-radius: 50%;\n",
              "      cursor: pointer;\n",
              "      display: none;\n",
              "      fill: #1967D2;\n",
              "      height: 32px;\n",
              "      padding: 0 0 0 0;\n",
              "      width: 32px;\n",
              "    }\n",
              "\n",
              "    .colab-df-convert:hover {\n",
              "      background-color: #E2EBFA;\n",
              "      box-shadow: 0px 1px 2px rgba(60, 64, 67, 0.3), 0px 1px 3px 1px rgba(60, 64, 67, 0.15);\n",
              "      fill: #174EA6;\n",
              "    }\n",
              "\n",
              "    .colab-df-buttons div {\n",
              "      margin-bottom: 4px;\n",
              "    }\n",
              "\n",
              "    [theme=dark] .colab-df-convert {\n",
              "      background-color: #3B4455;\n",
              "      fill: #D2E3FC;\n",
              "    }\n",
              "\n",
              "    [theme=dark] .colab-df-convert:hover {\n",
              "      background-color: #434B5C;\n",
              "      box-shadow: 0px 1px 3px 1px rgba(0, 0, 0, 0.15);\n",
              "      filter: drop-shadow(0px 1px 2px rgba(0, 0, 0, 0.3));\n",
              "      fill: #FFFFFF;\n",
              "    }\n",
              "  </style>\n",
              "\n",
              "    <script>\n",
              "      const buttonEl =\n",
              "        document.querySelector('#df-e41cf9d0-f9b4-40bc-b526-9fe0f3aacd52 button.colab-df-convert');\n",
              "      buttonEl.style.display =\n",
              "        google.colab.kernel.accessAllowed ? 'block' : 'none';\n",
              "\n",
              "      async function convertToInteractive(key) {\n",
              "        const element = document.querySelector('#df-e41cf9d0-f9b4-40bc-b526-9fe0f3aacd52');\n",
              "        const dataTable =\n",
              "          await google.colab.kernel.invokeFunction('convertToInteractive',\n",
              "                                                    [key], {});\n",
              "        if (!dataTable) return;\n",
              "\n",
              "        const docLinkHtml = 'Like what you see? Visit the ' +\n",
              "          '<a target=\"_blank\" href=https://colab.research.google.com/notebooks/data_table.ipynb>data table notebook</a>'\n",
              "          + ' to learn more about interactive tables.';\n",
              "        element.innerHTML = '';\n",
              "        dataTable['output_type'] = 'display_data';\n",
              "        await google.colab.output.renderOutput(dataTable, element);\n",
              "        const docLink = document.createElement('div');\n",
              "        docLink.innerHTML = docLinkHtml;\n",
              "        element.appendChild(docLink);\n",
              "      }\n",
              "    </script>\n",
              "  </div>\n",
              "\n",
              "\n",
              "    <div id=\"df-00ddeb36-6289-4ed1-ae69-ba68df900755\">\n",
              "      <button class=\"colab-df-quickchart\" onclick=\"quickchart('df-00ddeb36-6289-4ed1-ae69-ba68df900755')\"\n",
              "                title=\"Suggest charts\"\n",
              "                style=\"display:none;\">\n",
              "\n",
              "<svg xmlns=\"http://www.w3.org/2000/svg\" height=\"24px\"viewBox=\"0 0 24 24\"\n",
              "     width=\"24px\">\n",
              "    <g>\n",
              "        <path d=\"M19 3H5c-1.1 0-2 .9-2 2v14c0 1.1.9 2 2 2h14c1.1 0 2-.9 2-2V5c0-1.1-.9-2-2-2zM9 17H7v-7h2v7zm4 0h-2V7h2v10zm4 0h-2v-4h2v4z\"/>\n",
              "    </g>\n",
              "</svg>\n",
              "      </button>\n",
              "\n",
              "<style>\n",
              "  .colab-df-quickchart {\n",
              "      --bg-color: #E8F0FE;\n",
              "      --fill-color: #1967D2;\n",
              "      --hover-bg-color: #E2EBFA;\n",
              "      --hover-fill-color: #174EA6;\n",
              "      --disabled-fill-color: #AAA;\n",
              "      --disabled-bg-color: #DDD;\n",
              "  }\n",
              "\n",
              "  [theme=dark] .colab-df-quickchart {\n",
              "      --bg-color: #3B4455;\n",
              "      --fill-color: #D2E3FC;\n",
              "      --hover-bg-color: #434B5C;\n",
              "      --hover-fill-color: #FFFFFF;\n",
              "      --disabled-bg-color: #3B4455;\n",
              "      --disabled-fill-color: #666;\n",
              "  }\n",
              "\n",
              "  .colab-df-quickchart {\n",
              "    background-color: var(--bg-color);\n",
              "    border: none;\n",
              "    border-radius: 50%;\n",
              "    cursor: pointer;\n",
              "    display: none;\n",
              "    fill: var(--fill-color);\n",
              "    height: 32px;\n",
              "    padding: 0;\n",
              "    width: 32px;\n",
              "  }\n",
              "\n",
              "  .colab-df-quickchart:hover {\n",
              "    background-color: var(--hover-bg-color);\n",
              "    box-shadow: 0 1px 2px rgba(60, 64, 67, 0.3), 0 1px 3px 1px rgba(60, 64, 67, 0.15);\n",
              "    fill: var(--button-hover-fill-color);\n",
              "  }\n",
              "\n",
              "  .colab-df-quickchart-complete:disabled,\n",
              "  .colab-df-quickchart-complete:disabled:hover {\n",
              "    background-color: var(--disabled-bg-color);\n",
              "    fill: var(--disabled-fill-color);\n",
              "    box-shadow: none;\n",
              "  }\n",
              "\n",
              "  .colab-df-spinner {\n",
              "    border: 2px solid var(--fill-color);\n",
              "    border-color: transparent;\n",
              "    border-bottom-color: var(--fill-color);\n",
              "    animation:\n",
              "      spin 1s steps(1) infinite;\n",
              "  }\n",
              "\n",
              "  @keyframes spin {\n",
              "    0% {\n",
              "      border-color: transparent;\n",
              "      border-bottom-color: var(--fill-color);\n",
              "      border-left-color: var(--fill-color);\n",
              "    }\n",
              "    20% {\n",
              "      border-color: transparent;\n",
              "      border-left-color: var(--fill-color);\n",
              "      border-top-color: var(--fill-color);\n",
              "    }\n",
              "    30% {\n",
              "      border-color: transparent;\n",
              "      border-left-color: var(--fill-color);\n",
              "      border-top-color: var(--fill-color);\n",
              "      border-right-color: var(--fill-color);\n",
              "    }\n",
              "    40% {\n",
              "      border-color: transparent;\n",
              "      border-right-color: var(--fill-color);\n",
              "      border-top-color: var(--fill-color);\n",
              "    }\n",
              "    60% {\n",
              "      border-color: transparent;\n",
              "      border-right-color: var(--fill-color);\n",
              "    }\n",
              "    80% {\n",
              "      border-color: transparent;\n",
              "      border-right-color: var(--fill-color);\n",
              "      border-bottom-color: var(--fill-color);\n",
              "    }\n",
              "    90% {\n",
              "      border-color: transparent;\n",
              "      border-bottom-color: var(--fill-color);\n",
              "    }\n",
              "  }\n",
              "</style>\n",
              "\n",
              "      <script>\n",
              "        async function quickchart(key) {\n",
              "          const quickchartButtonEl =\n",
              "            document.querySelector('#' + key + ' button');\n",
              "          quickchartButtonEl.disabled = true;  // To prevent multiple clicks.\n",
              "          quickchartButtonEl.classList.add('colab-df-spinner');\n",
              "          try {\n",
              "            const charts = await google.colab.kernel.invokeFunction(\n",
              "                'suggestCharts', [key], {});\n",
              "          } catch (error) {\n",
              "            console.error('Error during call to suggestCharts:', error);\n",
              "          }\n",
              "          quickchartButtonEl.classList.remove('colab-df-spinner');\n",
              "          quickchartButtonEl.classList.add('colab-df-quickchart-complete');\n",
              "        }\n",
              "        (() => {\n",
              "          let quickchartButtonEl =\n",
              "            document.querySelector('#df-00ddeb36-6289-4ed1-ae69-ba68df900755 button');\n",
              "          quickchartButtonEl.style.display =\n",
              "            google.colab.kernel.accessAllowed ? 'block' : 'none';\n",
              "        })();\n",
              "      </script>\n",
              "    </div>\n",
              "\n",
              "    </div>\n",
              "  </div>\n"
            ],
            "application/vnd.google.colaboratory.intrinsic+json": {
              "type": "dataframe",
              "variable_name": "df_behaviors"
            }
          },
          "metadata": {},
          "execution_count": 174
        }
      ],
      "source": [
        "df_behaviors.head()"
      ]
    },
    {
      "cell_type": "code",
      "execution_count": 175,
      "id": "dea309a5",
      "metadata": {
        "colab": {
          "base_uri": "https://localhost:8080/",
          "height": 536
        },
        "id": "dea309a5",
        "outputId": "be87203a-2ef6-4706-c01d-e636aa2250ff"
      },
      "outputs": [
        {
          "output_type": "execute_result",
          "data": {
            "text/plain": [
              "   NewsID   Category      SubCategory  \\\n",
              "0  N55528  lifestyle  lifestyleroyals   \n",
              "1  N19639     health       weightloss   \n",
              "2  N61837       news        newsworld   \n",
              "3  N53526     health           voices   \n",
              "4  N38324     health          medical   \n",
              "\n",
              "                                               Title  \\\n",
              "0  The Brands Queen Elizabeth, Prince Charles, an...   \n",
              "1                      50 Worst Habits For Belly Fat   \n",
              "2  The Cost of Trump's Aid Freeze in the Trenches...   \n",
              "3  I Was An NBA Wife. Here's How It Affected My M...   \n",
              "4  How to Get Rid of Skin Tags, According to a De...   \n",
              "\n",
              "                                            Abstract  \\\n",
              "0  Shop the notebooks, jackets, and more that the...   \n",
              "1  These seemingly harmless habits are holding yo...   \n",
              "2  Lt. Ivan Molchanets peeked over a parapet of s...   \n",
              "3  I felt like I was a fraud, and being an NBA wi...   \n",
              "4  They seem harmless, but there's a very good re...   \n",
              "\n",
              "                                             URL  \\\n",
              "0  https://assets.msn.com/labs/mind/AAGH0ET.html   \n",
              "1  https://assets.msn.com/labs/mind/AAB19MK.html   \n",
              "2  https://assets.msn.com/labs/mind/AAJgNsz.html   \n",
              "3  https://assets.msn.com/labs/mind/AACk2N6.html   \n",
              "4  https://assets.msn.com/labs/mind/AAAKEkt.html   \n",
              "\n",
              "                                       TitleEntities  \\\n",
              "0  [{\"Label\": \"Prince Philip, Duke of Edinburgh\",...   \n",
              "1  [{\"Label\": \"Adipose tissue\", \"Type\": \"C\", \"Wik...   \n",
              "2                                                 []   \n",
              "3                                                 []   \n",
              "4  [{\"Label\": \"Skin tag\", \"Type\": \"C\", \"WikidataI...   \n",
              "\n",
              "                                    AbstractEntities  \n",
              "0                                                 []  \n",
              "1  [{\"Label\": \"Adipose tissue\", \"Type\": \"C\", \"Wik...  \n",
              "2  [{\"Label\": \"Ukraine\", \"Type\": \"G\", \"WikidataId...  \n",
              "3  [{\"Label\": \"National Basketball Association\", ...  \n",
              "4  [{\"Label\": \"Skin tag\", \"Type\": \"C\", \"WikidataI...  "
            ],
            "text/html": [
              "\n",
              "  <div id=\"df-f8e53c08-3708-43e2-b9d2-74442c54f7bd\" class=\"colab-df-container\">\n",
              "    <div>\n",
              "<style scoped>\n",
              "    .dataframe tbody tr th:only-of-type {\n",
              "        vertical-align: middle;\n",
              "    }\n",
              "\n",
              "    .dataframe tbody tr th {\n",
              "        vertical-align: top;\n",
              "    }\n",
              "\n",
              "    .dataframe thead th {\n",
              "        text-align: right;\n",
              "    }\n",
              "</style>\n",
              "<table border=\"1\" class=\"dataframe\">\n",
              "  <thead>\n",
              "    <tr style=\"text-align: right;\">\n",
              "      <th></th>\n",
              "      <th>NewsID</th>\n",
              "      <th>Category</th>\n",
              "      <th>SubCategory</th>\n",
              "      <th>Title</th>\n",
              "      <th>Abstract</th>\n",
              "      <th>URL</th>\n",
              "      <th>TitleEntities</th>\n",
              "      <th>AbstractEntities</th>\n",
              "    </tr>\n",
              "  </thead>\n",
              "  <tbody>\n",
              "    <tr>\n",
              "      <th>0</th>\n",
              "      <td>N55528</td>\n",
              "      <td>lifestyle</td>\n",
              "      <td>lifestyleroyals</td>\n",
              "      <td>The Brands Queen Elizabeth, Prince Charles, an...</td>\n",
              "      <td>Shop the notebooks, jackets, and more that the...</td>\n",
              "      <td>https://assets.msn.com/labs/mind/AAGH0ET.html</td>\n",
              "      <td>[{\"Label\": \"Prince Philip, Duke of Edinburgh\",...</td>\n",
              "      <td>[]</td>\n",
              "    </tr>\n",
              "    <tr>\n",
              "      <th>1</th>\n",
              "      <td>N19639</td>\n",
              "      <td>health</td>\n",
              "      <td>weightloss</td>\n",
              "      <td>50 Worst Habits For Belly Fat</td>\n",
              "      <td>These seemingly harmless habits are holding yo...</td>\n",
              "      <td>https://assets.msn.com/labs/mind/AAB19MK.html</td>\n",
              "      <td>[{\"Label\": \"Adipose tissue\", \"Type\": \"C\", \"Wik...</td>\n",
              "      <td>[{\"Label\": \"Adipose tissue\", \"Type\": \"C\", \"Wik...</td>\n",
              "    </tr>\n",
              "    <tr>\n",
              "      <th>2</th>\n",
              "      <td>N61837</td>\n",
              "      <td>news</td>\n",
              "      <td>newsworld</td>\n",
              "      <td>The Cost of Trump's Aid Freeze in the Trenches...</td>\n",
              "      <td>Lt. Ivan Molchanets peeked over a parapet of s...</td>\n",
              "      <td>https://assets.msn.com/labs/mind/AAJgNsz.html</td>\n",
              "      <td>[]</td>\n",
              "      <td>[{\"Label\": \"Ukraine\", \"Type\": \"G\", \"WikidataId...</td>\n",
              "    </tr>\n",
              "    <tr>\n",
              "      <th>3</th>\n",
              "      <td>N53526</td>\n",
              "      <td>health</td>\n",
              "      <td>voices</td>\n",
              "      <td>I Was An NBA Wife. Here's How It Affected My M...</td>\n",
              "      <td>I felt like I was a fraud, and being an NBA wi...</td>\n",
              "      <td>https://assets.msn.com/labs/mind/AACk2N6.html</td>\n",
              "      <td>[]</td>\n",
              "      <td>[{\"Label\": \"National Basketball Association\", ...</td>\n",
              "    </tr>\n",
              "    <tr>\n",
              "      <th>4</th>\n",
              "      <td>N38324</td>\n",
              "      <td>health</td>\n",
              "      <td>medical</td>\n",
              "      <td>How to Get Rid of Skin Tags, According to a De...</td>\n",
              "      <td>They seem harmless, but there's a very good re...</td>\n",
              "      <td>https://assets.msn.com/labs/mind/AAAKEkt.html</td>\n",
              "      <td>[{\"Label\": \"Skin tag\", \"Type\": \"C\", \"WikidataI...</td>\n",
              "      <td>[{\"Label\": \"Skin tag\", \"Type\": \"C\", \"WikidataI...</td>\n",
              "    </tr>\n",
              "  </tbody>\n",
              "</table>\n",
              "</div>\n",
              "    <div class=\"colab-df-buttons\">\n",
              "\n",
              "  <div class=\"colab-df-container\">\n",
              "    <button class=\"colab-df-convert\" onclick=\"convertToInteractive('df-f8e53c08-3708-43e2-b9d2-74442c54f7bd')\"\n",
              "            title=\"Convert this dataframe to an interactive table.\"\n",
              "            style=\"display:none;\">\n",
              "\n",
              "  <svg xmlns=\"http://www.w3.org/2000/svg\" height=\"24px\" viewBox=\"0 -960 960 960\">\n",
              "    <path d=\"M120-120v-720h720v720H120Zm60-500h600v-160H180v160Zm220 220h160v-160H400v160Zm0 220h160v-160H400v160ZM180-400h160v-160H180v160Zm440 0h160v-160H620v160ZM180-180h160v-160H180v160Zm440 0h160v-160H620v160Z\"/>\n",
              "  </svg>\n",
              "    </button>\n",
              "\n",
              "  <style>\n",
              "    .colab-df-container {\n",
              "      display:flex;\n",
              "      gap: 12px;\n",
              "    }\n",
              "\n",
              "    .colab-df-convert {\n",
              "      background-color: #E8F0FE;\n",
              "      border: none;\n",
              "      border-radius: 50%;\n",
              "      cursor: pointer;\n",
              "      display: none;\n",
              "      fill: #1967D2;\n",
              "      height: 32px;\n",
              "      padding: 0 0 0 0;\n",
              "      width: 32px;\n",
              "    }\n",
              "\n",
              "    .colab-df-convert:hover {\n",
              "      background-color: #E2EBFA;\n",
              "      box-shadow: 0px 1px 2px rgba(60, 64, 67, 0.3), 0px 1px 3px 1px rgba(60, 64, 67, 0.15);\n",
              "      fill: #174EA6;\n",
              "    }\n",
              "\n",
              "    .colab-df-buttons div {\n",
              "      margin-bottom: 4px;\n",
              "    }\n",
              "\n",
              "    [theme=dark] .colab-df-convert {\n",
              "      background-color: #3B4455;\n",
              "      fill: #D2E3FC;\n",
              "    }\n",
              "\n",
              "    [theme=dark] .colab-df-convert:hover {\n",
              "      background-color: #434B5C;\n",
              "      box-shadow: 0px 1px 3px 1px rgba(0, 0, 0, 0.15);\n",
              "      filter: drop-shadow(0px 1px 2px rgba(0, 0, 0, 0.3));\n",
              "      fill: #FFFFFF;\n",
              "    }\n",
              "  </style>\n",
              "\n",
              "    <script>\n",
              "      const buttonEl =\n",
              "        document.querySelector('#df-f8e53c08-3708-43e2-b9d2-74442c54f7bd button.colab-df-convert');\n",
              "      buttonEl.style.display =\n",
              "        google.colab.kernel.accessAllowed ? 'block' : 'none';\n",
              "\n",
              "      async function convertToInteractive(key) {\n",
              "        const element = document.querySelector('#df-f8e53c08-3708-43e2-b9d2-74442c54f7bd');\n",
              "        const dataTable =\n",
              "          await google.colab.kernel.invokeFunction('convertToInteractive',\n",
              "                                                    [key], {});\n",
              "        if (!dataTable) return;\n",
              "\n",
              "        const docLinkHtml = 'Like what you see? Visit the ' +\n",
              "          '<a target=\"_blank\" href=https://colab.research.google.com/notebooks/data_table.ipynb>data table notebook</a>'\n",
              "          + ' to learn more about interactive tables.';\n",
              "        element.innerHTML = '';\n",
              "        dataTable['output_type'] = 'display_data';\n",
              "        await google.colab.output.renderOutput(dataTable, element);\n",
              "        const docLink = document.createElement('div');\n",
              "        docLink.innerHTML = docLinkHtml;\n",
              "        element.appendChild(docLink);\n",
              "      }\n",
              "    </script>\n",
              "  </div>\n",
              "\n",
              "\n",
              "    <div id=\"df-952c7a65-b3c8-4ed0-a012-8fec2ac2b6af\">\n",
              "      <button class=\"colab-df-quickchart\" onclick=\"quickchart('df-952c7a65-b3c8-4ed0-a012-8fec2ac2b6af')\"\n",
              "                title=\"Suggest charts\"\n",
              "                style=\"display:none;\">\n",
              "\n",
              "<svg xmlns=\"http://www.w3.org/2000/svg\" height=\"24px\"viewBox=\"0 0 24 24\"\n",
              "     width=\"24px\">\n",
              "    <g>\n",
              "        <path d=\"M19 3H5c-1.1 0-2 .9-2 2v14c0 1.1.9 2 2 2h14c1.1 0 2-.9 2-2V5c0-1.1-.9-2-2-2zM9 17H7v-7h2v7zm4 0h-2V7h2v10zm4 0h-2v-4h2v4z\"/>\n",
              "    </g>\n",
              "</svg>\n",
              "      </button>\n",
              "\n",
              "<style>\n",
              "  .colab-df-quickchart {\n",
              "      --bg-color: #E8F0FE;\n",
              "      --fill-color: #1967D2;\n",
              "      --hover-bg-color: #E2EBFA;\n",
              "      --hover-fill-color: #174EA6;\n",
              "      --disabled-fill-color: #AAA;\n",
              "      --disabled-bg-color: #DDD;\n",
              "  }\n",
              "\n",
              "  [theme=dark] .colab-df-quickchart {\n",
              "      --bg-color: #3B4455;\n",
              "      --fill-color: #D2E3FC;\n",
              "      --hover-bg-color: #434B5C;\n",
              "      --hover-fill-color: #FFFFFF;\n",
              "      --disabled-bg-color: #3B4455;\n",
              "      --disabled-fill-color: #666;\n",
              "  }\n",
              "\n",
              "  .colab-df-quickchart {\n",
              "    background-color: var(--bg-color);\n",
              "    border: none;\n",
              "    border-radius: 50%;\n",
              "    cursor: pointer;\n",
              "    display: none;\n",
              "    fill: var(--fill-color);\n",
              "    height: 32px;\n",
              "    padding: 0;\n",
              "    width: 32px;\n",
              "  }\n",
              "\n",
              "  .colab-df-quickchart:hover {\n",
              "    background-color: var(--hover-bg-color);\n",
              "    box-shadow: 0 1px 2px rgba(60, 64, 67, 0.3), 0 1px 3px 1px rgba(60, 64, 67, 0.15);\n",
              "    fill: var(--button-hover-fill-color);\n",
              "  }\n",
              "\n",
              "  .colab-df-quickchart-complete:disabled,\n",
              "  .colab-df-quickchart-complete:disabled:hover {\n",
              "    background-color: var(--disabled-bg-color);\n",
              "    fill: var(--disabled-fill-color);\n",
              "    box-shadow: none;\n",
              "  }\n",
              "\n",
              "  .colab-df-spinner {\n",
              "    border: 2px solid var(--fill-color);\n",
              "    border-color: transparent;\n",
              "    border-bottom-color: var(--fill-color);\n",
              "    animation:\n",
              "      spin 1s steps(1) infinite;\n",
              "  }\n",
              "\n",
              "  @keyframes spin {\n",
              "    0% {\n",
              "      border-color: transparent;\n",
              "      border-bottom-color: var(--fill-color);\n",
              "      border-left-color: var(--fill-color);\n",
              "    }\n",
              "    20% {\n",
              "      border-color: transparent;\n",
              "      border-left-color: var(--fill-color);\n",
              "      border-top-color: var(--fill-color);\n",
              "    }\n",
              "    30% {\n",
              "      border-color: transparent;\n",
              "      border-left-color: var(--fill-color);\n",
              "      border-top-color: var(--fill-color);\n",
              "      border-right-color: var(--fill-color);\n",
              "    }\n",
              "    40% {\n",
              "      border-color: transparent;\n",
              "      border-right-color: var(--fill-color);\n",
              "      border-top-color: var(--fill-color);\n",
              "    }\n",
              "    60% {\n",
              "      border-color: transparent;\n",
              "      border-right-color: var(--fill-color);\n",
              "    }\n",
              "    80% {\n",
              "      border-color: transparent;\n",
              "      border-right-color: var(--fill-color);\n",
              "      border-bottom-color: var(--fill-color);\n",
              "    }\n",
              "    90% {\n",
              "      border-color: transparent;\n",
              "      border-bottom-color: var(--fill-color);\n",
              "    }\n",
              "  }\n",
              "</style>\n",
              "\n",
              "      <script>\n",
              "        async function quickchart(key) {\n",
              "          const quickchartButtonEl =\n",
              "            document.querySelector('#' + key + ' button');\n",
              "          quickchartButtonEl.disabled = true;  // To prevent multiple clicks.\n",
              "          quickchartButtonEl.classList.add('colab-df-spinner');\n",
              "          try {\n",
              "            const charts = await google.colab.kernel.invokeFunction(\n",
              "                'suggestCharts', [key], {});\n",
              "          } catch (error) {\n",
              "            console.error('Error during call to suggestCharts:', error);\n",
              "          }\n",
              "          quickchartButtonEl.classList.remove('colab-df-spinner');\n",
              "          quickchartButtonEl.classList.add('colab-df-quickchart-complete');\n",
              "        }\n",
              "        (() => {\n",
              "          let quickchartButtonEl =\n",
              "            document.querySelector('#df-952c7a65-b3c8-4ed0-a012-8fec2ac2b6af button');\n",
              "          quickchartButtonEl.style.display =\n",
              "            google.colab.kernel.accessAllowed ? 'block' : 'none';\n",
              "        })();\n",
              "      </script>\n",
              "    </div>\n",
              "\n",
              "    </div>\n",
              "  </div>\n"
            ],
            "application/vnd.google.colaboratory.intrinsic+json": {
              "type": "dataframe",
              "variable_name": "df_news",
              "summary": "{\n  \"name\": \"df_news\",\n  \"rows\": 51282,\n  \"fields\": [\n    {\n      \"column\": \"NewsID\",\n      \"properties\": {\n        \"dtype\": \"string\",\n        \"num_unique_values\": 51282,\n        \"samples\": [\n          \"N7433\",\n          \"N43326\",\n          \"N45745\"\n        ],\n        \"semantic_type\": \"\",\n        \"description\": \"\"\n      }\n    },\n    {\n      \"column\": \"Category\",\n      \"properties\": {\n        \"dtype\": \"category\",\n        \"num_unique_values\": 17,\n        \"samples\": [\n          \"lifestyle\",\n          \"health\",\n          \"entertainment\"\n        ],\n        \"semantic_type\": \"\",\n        \"description\": \"\"\n      }\n    },\n    {\n      \"column\": \"SubCategory\",\n      \"properties\": {\n        \"dtype\": \"category\",\n        \"num_unique_values\": 264,\n        \"samples\": [\n          \"musicnews\",\n          \"tunedin\",\n          \"finance-career-education\"\n        ],\n        \"semantic_type\": \"\",\n        \"description\": \"\"\n      }\n    },\n    {\n      \"column\": \"Title\",\n      \"properties\": {\n        \"dtype\": \"string\",\n        \"num_unique_values\": 50434,\n        \"samples\": [\n          \"Hundreds of thousands of people in California are downriver of a dam that 'could fail'\",\n          \"State Department finds no 'deliberate mishandling of classified information' related to Clinton email server\",\n          \"Over 13,000 Nationals fans attend Game 7 watch party at Nationals Park\"\n        ],\n        \"semantic_type\": \"\",\n        \"description\": \"\"\n      }\n    },\n    {\n      \"column\": \"Abstract\",\n      \"properties\": {\n        \"dtype\": \"string\",\n        \"num_unique_values\": 47309,\n        \"samples\": [\n          \"KFC recently announced that it would be adding bone-in chicken wings to its menu permanently.\",\n          \"A Greenville woman is accused of kidnapping a girl from Minnesota, bringing her to Greenville and sexually assaulting her, according to an FBI affidavit. The affidavit said authorities were notified on Sept. 8 that a girl, who is under 12 years old, was kidnapped from South St. Paul and had traveled to South Carolina between Sept. 6 and 8. Investigators said they got information that the child may be at 23-year-old Katrina Marie Aliff's...\",\n          \"This is only the fourth impeachment proceeding in our nation's history - and it could stretch into an election year. Former Democratic Congressman Steve Israel and former Hillary Clinton campaign adviser Adrienne Elrod join Chris Jansing to discuss how it could hurt - or help - certain 2020 candidates.\"\n        ],\n        \"semantic_type\": \"\",\n        \"description\": \"\"\n      }\n    },\n    {\n      \"column\": \"URL\",\n      \"properties\": {\n        \"dtype\": \"string\",\n        \"num_unique_values\": 51281,\n        \"samples\": [\n          \"https://assets.msn.com/labs/mind/AAJmWCa.html\",\n          \"https://assets.msn.com/labs/mind/AAIZ3GP.html\",\n          \"https://assets.msn.com/labs/mind/AAILU2e.html\"\n        ],\n        \"semantic_type\": \"\",\n        \"description\": \"\"\n      }\n    },\n    {\n      \"column\": \"TitleEntities\",\n      \"properties\": {\n        \"dtype\": \"string\",\n        \"num_unique_values\": 34472,\n        \"samples\": [\n          \"[{\\\"Label\\\": \\\"Chrissy Teigen\\\", \\\"Type\\\": \\\"P\\\", \\\"WikidataId\\\": \\\"Q5111202\\\", \\\"Confidence\\\": 1.0, \\\"OccurrenceOffsets\\\": [0], \\\"SurfaceForms\\\": [\\\"Chrissy Teigen\\\"]}, {\\\"Label\\\": \\\"John Legend\\\", \\\"Type\\\": \\\"P\\\", \\\"WikidataId\\\": \\\"Q44857\\\", \\\"Confidence\\\": 1.0, \\\"OccurrenceOffsets\\\": [19], \\\"SurfaceForms\\\": [\\\"John Legend\\\"]}, {\\\"Label\\\": \\\"Donald Trump\\\", \\\"Type\\\": \\\"P\\\", \\\"WikidataId\\\": \\\"Q22686\\\", \\\"Confidence\\\": 1.0, \\\"OccurrenceOffsets\\\": [57], \\\"SurfaceForms\\\": [\\\"Trump\\\"]}]\",\n          \"[{\\\"Label\\\": \\\"McDonald's\\\", \\\"Type\\\": \\\"O\\\", \\\"WikidataId\\\": \\\"Q38076\\\", \\\"Confidence\\\": 1.0, \\\"OccurrenceOffsets\\\": [22], \\\"SurfaceForms\\\": [\\\"McDonald's\\\"]}]\",\n          \"[{\\\"Label\\\": \\\"Dan Quinn (American football)\\\", \\\"Type\\\": \\\"P\\\", \\\"WikidataId\\\": \\\"Q5214234\\\", \\\"Confidence\\\": 0.992, \\\"OccurrenceOffsets\\\": [38], \\\"SurfaceForms\\\": [\\\"Dan Quinn\\\"]}]\"\n        ],\n        \"semantic_type\": \"\",\n        \"description\": \"\"\n      }\n    },\n    {\n      \"column\": \"AbstractEntities\",\n      \"properties\": {\n        \"dtype\": \"string\",\n        \"num_unique_values\": 36277,\n        \"samples\": [\n          \"[{\\\"Label\\\": \\\"Santa Anita Park\\\", \\\"Type\\\": \\\"F\\\", \\\"WikidataId\\\": \\\"Q1126370\\\", \\\"Confidence\\\": 1.0, \\\"OccurrenceOffsets\\\": [10], \\\"SurfaceForms\\\": [\\\"Santa Anita Park\\\"]}]\",\n          \"[{\\\"Label\\\": \\\"Lexington, Kentucky\\\", \\\"Type\\\": \\\"G\\\", \\\"WikidataId\\\": \\\"Q49241\\\", \\\"Confidence\\\": 1.0, \\\"OccurrenceOffsets\\\": [0], \\\"SurfaceForms\\\": [\\\"LEXINGTON\\\"]}, {\\\"Label\\\": \\\"Immanuel Quickley\\\", \\\"Type\\\": \\\"N\\\", \\\"WikidataId\\\": \\\"Q55433150\\\", \\\"Confidence\\\": 1.0, \\\"OccurrenceOffsets\\\": [27, 300], \\\"SurfaceForms\\\": [\\\"Immanuel Quickley\\\", \\\"Quickley\\\"]}, {\\\"Label\\\": \\\"AP Poll\\\", \\\"Type\\\": \\\"U\\\", \\\"WikidataId\\\": \\\"Q4653492\\\", \\\"Confidence\\\": 1.0, \\\"OccurrenceOffsets\\\": [140], \\\"SurfaceForms\\\": [\\\"Top 25\\\"]}, {\\\"Label\\\": \\\"Associated Press\\\", \\\"Type\\\": \\\"O\\\", \\\"WikidataId\\\": \\\"Q40469\\\", \\\"Confidence\\\": 0.991, \\\"OccurrenceOffsets\\\": [119], \\\"SurfaceForms\\\": [\\\"The Associated Press\\\"]}]\",\n          \"[{\\\"Label\\\": \\\"Hennepin County Medical Center\\\", \\\"Type\\\": \\\"F\\\", \\\"WikidataId\\\": \\\"Q5714832\\\", \\\"Confidence\\\": 1.0, \\\"OccurrenceOffsets\\\": [248], \\\"SurfaceForms\\\": [\\\"Hennepin Healthcare\\\"]}, {\\\"Label\\\": \\\"Medicaid\\\", \\\"Type\\\": \\\"U\\\", \\\"WikidataId\\\": \\\"Q1141363\\\", \\\"Confidence\\\": 1.0, \\\"OccurrenceOffsets\\\": [212], \\\"SurfaceForms\\\": [\\\"Medicaid\\\"]}, {\\\"Label\\\": \\\"Presidency of Donald Trump\\\", \\\"Type\\\": \\\"U\\\", \\\"WikidataId\\\": \\\"Q27809653\\\", \\\"Confidence\\\": 0.976, \\\"OccurrenceOffsets\\\": [129], \\\"SurfaceForms\\\": [\\\"Trump administration\\\"]}]\"\n        ],\n        \"semantic_type\": \"\",\n        \"description\": \"\"\n      }\n    }\n  ]\n}"
            }
          },
          "metadata": {},
          "execution_count": 175
        }
      ],
      "source": [
        "df_news.head()"
      ]
    },
    {
      "cell_type": "code",
      "source": [
        "df_behaviors[\"Time\"] = pd.to_datetime(df_behaviors[\"Time\"])\n",
        "cutoff = pd.to_datetime(\"2019-11-14\")\n",
        "\n",
        "behavior_train = df_behaviors[df_behaviors[\"Time\"] < cutoff].copy()\n",
        "behavior_val   = df_behaviors[df_behaviors[\"Time\"] >= cutoff].copy()"
      ],
      "metadata": {
        "id": "QdRp7l9HHUt0"
      },
      "id": "QdRp7l9HHUt0",
      "execution_count": 176,
      "outputs": []
    },
    {
      "cell_type": "markdown",
      "id": "400eb140",
      "metadata": {
        "id": "400eb140"
      },
      "source": [
        "## Análisis de df_behaviors"
      ]
    },
    {
      "cell_type": "code",
      "source": [
        "print(f\"Número de impresiones en train: {behavior_train.shape[0]}\")\n",
        "print(f\"Número de impresiones en val: {behavior_val.shape[0]}\")"
      ],
      "metadata": {
        "colab": {
          "base_uri": "https://localhost:8080/"
        },
        "id": "jFZbnb3IHx8V",
        "outputId": "977c3650-de9f-4d15-cc85-cd7ecdc26715"
      },
      "id": "jFZbnb3IHx8V",
      "execution_count": 177,
      "outputs": [
        {
          "output_type": "stream",
          "name": "stdout",
          "text": [
            "Número de impresiones en train: 126695\n",
            "Número de impresiones en val: 30270\n"
          ]
        }
      ]
    },
    {
      "cell_type": "code",
      "execution_count": 178,
      "id": "44cc31aa",
      "metadata": {
        "colab": {
          "base_uri": "https://localhost:8080/"
        },
        "id": "44cc31aa",
        "outputId": "62406149-b7a7-4e80-a685-b61974977091"
      },
      "outputs": [
        {
          "output_type": "stream",
          "name": "stdout",
          "text": [
            "Número de usuarios en train: 46012\n",
            "Número de usuarios en val: 20179\n"
          ]
        }
      ],
      "source": [
        "print(f\"Número de usuarios en train: {behavior_train['UserID'].nunique()}\")\n",
        "print(f\"Número de usuarios en val: {behavior_val['UserID'].nunique()}\")"
      ]
    },
    {
      "cell_type": "code",
      "source": [
        "usuarios_nuevos_por_impresion_train = behavior_train[behavior_train[\"History\"].isnull() | (behavior_train[\"History\"] == \"\")]\n",
        "usuarios_nuevos_por_impresion_val = behavior_val[behavior_val[\"History\"].isnull() | (behavior_val[\"History\"] == \"\")]"
      ],
      "metadata": {
        "id": "jgq7a9hzIceM"
      },
      "id": "jgq7a9hzIceM",
      "execution_count": 179,
      "outputs": []
    },
    {
      "cell_type": "code",
      "source": [
        "print(f\"Número de usuarios nuevos en train: {usuarios_nuevos_por_impresion_train['UserID'].nunique()}\")\n",
        "print(f\"Número de usuarios nuevos en val: {usuarios_nuevos_por_impresion_val['UserID'].nunique()}\")"
      ],
      "metadata": {
        "colab": {
          "base_uri": "https://localhost:8080/"
        },
        "id": "NLh21zvDzT48",
        "outputId": "3291d996-a486-4872-b3db-0b6f60d78887"
      },
      "id": "NLh21zvDzT48",
      "execution_count": 180,
      "outputs": [
        {
          "output_type": "stream",
          "name": "stdout",
          "text": [
            "Número de usuarios nuevos en train: 798\n",
            "Número de usuarios nuevos en val: 476\n"
          ]
        }
      ]
    },
    {
      "cell_type": "code",
      "execution_count": 181,
      "id": "718d3fbf",
      "metadata": {
        "id": "718d3fbf"
      },
      "outputs": [],
      "source": [
        "impresiones_por_usuario_train = behavior_train[\"UserID\"].value_counts()\n",
        "impresiones_por_usuario_val = behavior_val[\"UserID\"].value_counts()"
      ]
    },
    {
      "cell_type": "code",
      "source": [
        "print(f\"Promedio de impresiones por usuario en train: {impresiones_por_usuario_train.mean():.2f}\")\n",
        "print(f\"Promedio de impresiones por usuario en val  : {impresiones_por_usuario_val.mean():.2f}\")"
      ],
      "metadata": {
        "colab": {
          "base_uri": "https://localhost:8080/"
        },
        "id": "-6ZjHwzhI_LM",
        "outputId": "9373b4ef-d5ee-42b4-e2b1-b34f29a10688"
      },
      "id": "-6ZjHwzhI_LM",
      "execution_count": 182,
      "outputs": [
        {
          "output_type": "stream",
          "name": "stdout",
          "text": [
            "Promedio de impresiones por usuario en train: 2.75\n",
            "Promedio de impresiones por usuario en val  : 1.50\n"
          ]
        }
      ]
    },
    {
      "cell_type": "code",
      "execution_count": 184,
      "id": "59ecb8be",
      "metadata": {
        "id": "59ecb8be"
      },
      "outputs": [],
      "source": [
        "df_behaviors[\"Time\"] = pd.to_datetime(df_behaviors[\"Time\"])\n",
        "df_behaviors[\"Date\"] = df_behaviors[\"Time\"].dt.date\n",
        "behavior_train[\"Date\"] = behavior_train[\"Time\"].dt.date\n",
        "behavior_val[\"Date\"] = behavior_val[\"Time\"].dt.date"
      ]
    },
    {
      "cell_type": "code",
      "source": [
        "conteo_por_dia = df_behaviors[\"Date\"].value_counts().sort_index()\n",
        "conteo_por_dia_train = behavior_train[\"Date\"].value_counts().sort_index()\n",
        "conteo_por_dia_val = behavior_val[\"Date\"].value_counts().sort_index()"
      ],
      "metadata": {
        "id": "Z7o5jhM7JZpk"
      },
      "id": "Z7o5jhM7JZpk",
      "execution_count": 185,
      "outputs": []
    },
    {
      "cell_type": "code",
      "source": [
        "promedio_impresiones_dia_train = conteo_por_dia_train.mean()\n",
        "promedio_impresiones_dia_val = conteo_por_dia_val.mean()\n",
        "\n",
        "print(f\"Promedio de impresiones por día train: {promedio_impresiones_dia_train:.2f}\")\n",
        "print(f\"Promedio de impresiones por día val  : {promedio_impresiones_dia_val:.2f}\")"
      ],
      "metadata": {
        "colab": {
          "base_uri": "https://localhost:8080/"
        },
        "id": "MCO98rXr3UN8",
        "outputId": "1b3de6e7-0f25-4598-de3a-7891441d0a8b"
      },
      "id": "MCO98rXr3UN8",
      "execution_count": 186,
      "outputs": [
        {
          "output_type": "stream",
          "name": "stdout",
          "text": [
            "Promedio de impresiones por día train: 25339.00\n",
            "Promedio de impresiones por día val  : 30270.00\n"
          ]
        }
      ]
    },
    {
      "cell_type": "code",
      "execution_count": 187,
      "id": "7eae187c",
      "metadata": {
        "id": "7eae187c"
      },
      "outputs": [],
      "source": [
        "behavior_train[\"HistoryLength\"] = behavior_train[\"History\"].fillna(\"\").apply(lambda x: len(x.split()))\n",
        "behavior_val[\"HistoryLength\"] = behavior_val[\"History\"].fillna(\"\").apply(lambda x: len(x.split()))"
      ]
    },
    {
      "cell_type": "code",
      "execution_count": 188,
      "id": "a0bd2741",
      "metadata": {
        "colab": {
          "base_uri": "https://localhost:8080/"
        },
        "id": "a0bd2741",
        "outputId": "93d27f10-da02-49fa-a4f4-d783473ae57d"
      },
      "outputs": [
        {
          "output_type": "stream",
          "name": "stdout",
          "text": [
            "Promedio de noticias en el historial por usuario: 32.41\n",
            "Promedio de noticias en el historial por usuario: 33.09\n"
          ]
        }
      ],
      "source": [
        "print(f\"Promedio de noticias en el historial por usuario: {behavior_train['HistoryLength'].mean():.2f}\")\n",
        "print(f\"Promedio de noticias en el historial por usuario: {behavior_val['HistoryLength'].mean():.2f}\")"
      ]
    },
    {
      "cell_type": "code",
      "source": [
        "num_interacciones = df_behaviors[\"Impressions\"].apply(lambda x: len(x.split())).sum()"
      ],
      "metadata": {
        "id": "y1g5YNhehedF"
      },
      "id": "y1g5YNhehedF",
      "execution_count": 189,
      "outputs": []
    },
    {
      "cell_type": "code",
      "source": [
        "print(f\"Número total de interacciones: {num_interacciones:,}\")"
      ],
      "metadata": {
        "colab": {
          "base_uri": "https://localhost:8080/"
        },
        "id": "BgJo4l-Oh8cl",
        "outputId": "45667af0-d34c-4d82-9cce-edd6f9b3161f"
      },
      "id": "BgJo4l-Oh8cl",
      "execution_count": 190,
      "outputs": [
        {
          "output_type": "stream",
          "name": "stdout",
          "text": [
            "Número total de interacciones: 5,843,444\n"
          ]
        }
      ]
    },
    {
      "cell_type": "markdown",
      "id": "87c0ac7f",
      "metadata": {
        "id": "87c0ac7f"
      },
      "source": [
        "### Creación de dataset típico de recomendación"
      ]
    },
    {
      "cell_type": "code",
      "execution_count": 191,
      "id": "ee8afbca",
      "metadata": {
        "id": "ee8afbca"
      },
      "outputs": [],
      "source": [
        "interacciones = []\n",
        "\n",
        "for _, row in df_behaviors.iterrows():\n",
        "    user_id = row[\"UserID\"]\n",
        "    timestamp = row[\"Time\"]\n",
        "    impressions = row[\"Impressions\"].split()\n",
        "\n",
        "    for impression in impressions:\n",
        "        news_id, clicked = impression.split('-')\n",
        "        interacciones.append({\n",
        "            \"UserID\": user_id,\n",
        "            \"NewsID\": news_id,\n",
        "            \"Clicked\": int(clicked),\n",
        "            \"Timestamp\": timestamp\n",
        "        })\n",
        "\n",
        "df_interacciones = pd.DataFrame(interacciones)"
      ]
    },
    {
      "cell_type": "code",
      "source": [
        "df_interacciones.head()"
      ],
      "metadata": {
        "colab": {
          "base_uri": "https://localhost:8080/",
          "height": 206
        },
        "id": "yRb7AYabf98Z",
        "outputId": "5ee11d95-e614-4052-98f6-9039b4a9335b"
      },
      "id": "yRb7AYabf98Z",
      "execution_count": 192,
      "outputs": [
        {
          "output_type": "execute_result",
          "data": {
            "text/plain": [
              "   UserID  NewsID  Clicked           Timestamp\n",
              "0  U13740  N55689        1 2019-11-11 09:05:58\n",
              "1  U13740  N35729        0 2019-11-11 09:05:58\n",
              "2  U91836  N20678        0 2019-11-12 18:11:30\n",
              "3  U91836  N39317        0 2019-11-12 18:11:30\n",
              "4  U91836  N58114        0 2019-11-12 18:11:30"
            ],
            "text/html": [
              "\n",
              "  <div id=\"df-de9786c1-1ecb-4104-a7fb-043835cd7895\" class=\"colab-df-container\">\n",
              "    <div>\n",
              "<style scoped>\n",
              "    .dataframe tbody tr th:only-of-type {\n",
              "        vertical-align: middle;\n",
              "    }\n",
              "\n",
              "    .dataframe tbody tr th {\n",
              "        vertical-align: top;\n",
              "    }\n",
              "\n",
              "    .dataframe thead th {\n",
              "        text-align: right;\n",
              "    }\n",
              "</style>\n",
              "<table border=\"1\" class=\"dataframe\">\n",
              "  <thead>\n",
              "    <tr style=\"text-align: right;\">\n",
              "      <th></th>\n",
              "      <th>UserID</th>\n",
              "      <th>NewsID</th>\n",
              "      <th>Clicked</th>\n",
              "      <th>Timestamp</th>\n",
              "    </tr>\n",
              "  </thead>\n",
              "  <tbody>\n",
              "    <tr>\n",
              "      <th>0</th>\n",
              "      <td>U13740</td>\n",
              "      <td>N55689</td>\n",
              "      <td>1</td>\n",
              "      <td>2019-11-11 09:05:58</td>\n",
              "    </tr>\n",
              "    <tr>\n",
              "      <th>1</th>\n",
              "      <td>U13740</td>\n",
              "      <td>N35729</td>\n",
              "      <td>0</td>\n",
              "      <td>2019-11-11 09:05:58</td>\n",
              "    </tr>\n",
              "    <tr>\n",
              "      <th>2</th>\n",
              "      <td>U91836</td>\n",
              "      <td>N20678</td>\n",
              "      <td>0</td>\n",
              "      <td>2019-11-12 18:11:30</td>\n",
              "    </tr>\n",
              "    <tr>\n",
              "      <th>3</th>\n",
              "      <td>U91836</td>\n",
              "      <td>N39317</td>\n",
              "      <td>0</td>\n",
              "      <td>2019-11-12 18:11:30</td>\n",
              "    </tr>\n",
              "    <tr>\n",
              "      <th>4</th>\n",
              "      <td>U91836</td>\n",
              "      <td>N58114</td>\n",
              "      <td>0</td>\n",
              "      <td>2019-11-12 18:11:30</td>\n",
              "    </tr>\n",
              "  </tbody>\n",
              "</table>\n",
              "</div>\n",
              "    <div class=\"colab-df-buttons\">\n",
              "\n",
              "  <div class=\"colab-df-container\">\n",
              "    <button class=\"colab-df-convert\" onclick=\"convertToInteractive('df-de9786c1-1ecb-4104-a7fb-043835cd7895')\"\n",
              "            title=\"Convert this dataframe to an interactive table.\"\n",
              "            style=\"display:none;\">\n",
              "\n",
              "  <svg xmlns=\"http://www.w3.org/2000/svg\" height=\"24px\" viewBox=\"0 -960 960 960\">\n",
              "    <path d=\"M120-120v-720h720v720H120Zm60-500h600v-160H180v160Zm220 220h160v-160H400v160Zm0 220h160v-160H400v160ZM180-400h160v-160H180v160Zm440 0h160v-160H620v160ZM180-180h160v-160H180v160Zm440 0h160v-160H620v160Z\"/>\n",
              "  </svg>\n",
              "    </button>\n",
              "\n",
              "  <style>\n",
              "    .colab-df-container {\n",
              "      display:flex;\n",
              "      gap: 12px;\n",
              "    }\n",
              "\n",
              "    .colab-df-convert {\n",
              "      background-color: #E8F0FE;\n",
              "      border: none;\n",
              "      border-radius: 50%;\n",
              "      cursor: pointer;\n",
              "      display: none;\n",
              "      fill: #1967D2;\n",
              "      height: 32px;\n",
              "      padding: 0 0 0 0;\n",
              "      width: 32px;\n",
              "    }\n",
              "\n",
              "    .colab-df-convert:hover {\n",
              "      background-color: #E2EBFA;\n",
              "      box-shadow: 0px 1px 2px rgba(60, 64, 67, 0.3), 0px 1px 3px 1px rgba(60, 64, 67, 0.15);\n",
              "      fill: #174EA6;\n",
              "    }\n",
              "\n",
              "    .colab-df-buttons div {\n",
              "      margin-bottom: 4px;\n",
              "    }\n",
              "\n",
              "    [theme=dark] .colab-df-convert {\n",
              "      background-color: #3B4455;\n",
              "      fill: #D2E3FC;\n",
              "    }\n",
              "\n",
              "    [theme=dark] .colab-df-convert:hover {\n",
              "      background-color: #434B5C;\n",
              "      box-shadow: 0px 1px 3px 1px rgba(0, 0, 0, 0.15);\n",
              "      filter: drop-shadow(0px 1px 2px rgba(0, 0, 0, 0.3));\n",
              "      fill: #FFFFFF;\n",
              "    }\n",
              "  </style>\n",
              "\n",
              "    <script>\n",
              "      const buttonEl =\n",
              "        document.querySelector('#df-de9786c1-1ecb-4104-a7fb-043835cd7895 button.colab-df-convert');\n",
              "      buttonEl.style.display =\n",
              "        google.colab.kernel.accessAllowed ? 'block' : 'none';\n",
              "\n",
              "      async function convertToInteractive(key) {\n",
              "        const element = document.querySelector('#df-de9786c1-1ecb-4104-a7fb-043835cd7895');\n",
              "        const dataTable =\n",
              "          await google.colab.kernel.invokeFunction('convertToInteractive',\n",
              "                                                    [key], {});\n",
              "        if (!dataTable) return;\n",
              "\n",
              "        const docLinkHtml = 'Like what you see? Visit the ' +\n",
              "          '<a target=\"_blank\" href=https://colab.research.google.com/notebooks/data_table.ipynb>data table notebook</a>'\n",
              "          + ' to learn more about interactive tables.';\n",
              "        element.innerHTML = '';\n",
              "        dataTable['output_type'] = 'display_data';\n",
              "        await google.colab.output.renderOutput(dataTable, element);\n",
              "        const docLink = document.createElement('div');\n",
              "        docLink.innerHTML = docLinkHtml;\n",
              "        element.appendChild(docLink);\n",
              "      }\n",
              "    </script>\n",
              "  </div>\n",
              "\n",
              "\n",
              "    <div id=\"df-9c77f412-b445-4f9f-9b13-527794591088\">\n",
              "      <button class=\"colab-df-quickchart\" onclick=\"quickchart('df-9c77f412-b445-4f9f-9b13-527794591088')\"\n",
              "                title=\"Suggest charts\"\n",
              "                style=\"display:none;\">\n",
              "\n",
              "<svg xmlns=\"http://www.w3.org/2000/svg\" height=\"24px\"viewBox=\"0 0 24 24\"\n",
              "     width=\"24px\">\n",
              "    <g>\n",
              "        <path d=\"M19 3H5c-1.1 0-2 .9-2 2v14c0 1.1.9 2 2 2h14c1.1 0 2-.9 2-2V5c0-1.1-.9-2-2-2zM9 17H7v-7h2v7zm4 0h-2V7h2v10zm4 0h-2v-4h2v4z\"/>\n",
              "    </g>\n",
              "</svg>\n",
              "      </button>\n",
              "\n",
              "<style>\n",
              "  .colab-df-quickchart {\n",
              "      --bg-color: #E8F0FE;\n",
              "      --fill-color: #1967D2;\n",
              "      --hover-bg-color: #E2EBFA;\n",
              "      --hover-fill-color: #174EA6;\n",
              "      --disabled-fill-color: #AAA;\n",
              "      --disabled-bg-color: #DDD;\n",
              "  }\n",
              "\n",
              "  [theme=dark] .colab-df-quickchart {\n",
              "      --bg-color: #3B4455;\n",
              "      --fill-color: #D2E3FC;\n",
              "      --hover-bg-color: #434B5C;\n",
              "      --hover-fill-color: #FFFFFF;\n",
              "      --disabled-bg-color: #3B4455;\n",
              "      --disabled-fill-color: #666;\n",
              "  }\n",
              "\n",
              "  .colab-df-quickchart {\n",
              "    background-color: var(--bg-color);\n",
              "    border: none;\n",
              "    border-radius: 50%;\n",
              "    cursor: pointer;\n",
              "    display: none;\n",
              "    fill: var(--fill-color);\n",
              "    height: 32px;\n",
              "    padding: 0;\n",
              "    width: 32px;\n",
              "  }\n",
              "\n",
              "  .colab-df-quickchart:hover {\n",
              "    background-color: var(--hover-bg-color);\n",
              "    box-shadow: 0 1px 2px rgba(60, 64, 67, 0.3), 0 1px 3px 1px rgba(60, 64, 67, 0.15);\n",
              "    fill: var(--button-hover-fill-color);\n",
              "  }\n",
              "\n",
              "  .colab-df-quickchart-complete:disabled,\n",
              "  .colab-df-quickchart-complete:disabled:hover {\n",
              "    background-color: var(--disabled-bg-color);\n",
              "    fill: var(--disabled-fill-color);\n",
              "    box-shadow: none;\n",
              "  }\n",
              "\n",
              "  .colab-df-spinner {\n",
              "    border: 2px solid var(--fill-color);\n",
              "    border-color: transparent;\n",
              "    border-bottom-color: var(--fill-color);\n",
              "    animation:\n",
              "      spin 1s steps(1) infinite;\n",
              "  }\n",
              "\n",
              "  @keyframes spin {\n",
              "    0% {\n",
              "      border-color: transparent;\n",
              "      border-bottom-color: var(--fill-color);\n",
              "      border-left-color: var(--fill-color);\n",
              "    }\n",
              "    20% {\n",
              "      border-color: transparent;\n",
              "      border-left-color: var(--fill-color);\n",
              "      border-top-color: var(--fill-color);\n",
              "    }\n",
              "    30% {\n",
              "      border-color: transparent;\n",
              "      border-left-color: var(--fill-color);\n",
              "      border-top-color: var(--fill-color);\n",
              "      border-right-color: var(--fill-color);\n",
              "    }\n",
              "    40% {\n",
              "      border-color: transparent;\n",
              "      border-right-color: var(--fill-color);\n",
              "      border-top-color: var(--fill-color);\n",
              "    }\n",
              "    60% {\n",
              "      border-color: transparent;\n",
              "      border-right-color: var(--fill-color);\n",
              "    }\n",
              "    80% {\n",
              "      border-color: transparent;\n",
              "      border-right-color: var(--fill-color);\n",
              "      border-bottom-color: var(--fill-color);\n",
              "    }\n",
              "    90% {\n",
              "      border-color: transparent;\n",
              "      border-bottom-color: var(--fill-color);\n",
              "    }\n",
              "  }\n",
              "</style>\n",
              "\n",
              "      <script>\n",
              "        async function quickchart(key) {\n",
              "          const quickchartButtonEl =\n",
              "            document.querySelector('#' + key + ' button');\n",
              "          quickchartButtonEl.disabled = true;  // To prevent multiple clicks.\n",
              "          quickchartButtonEl.classList.add('colab-df-spinner');\n",
              "          try {\n",
              "            const charts = await google.colab.kernel.invokeFunction(\n",
              "                'suggestCharts', [key], {});\n",
              "          } catch (error) {\n",
              "            console.error('Error during call to suggestCharts:', error);\n",
              "          }\n",
              "          quickchartButtonEl.classList.remove('colab-df-spinner');\n",
              "          quickchartButtonEl.classList.add('colab-df-quickchart-complete');\n",
              "        }\n",
              "        (() => {\n",
              "          let quickchartButtonEl =\n",
              "            document.querySelector('#df-9c77f412-b445-4f9f-9b13-527794591088 button');\n",
              "          quickchartButtonEl.style.display =\n",
              "            google.colab.kernel.accessAllowed ? 'block' : 'none';\n",
              "        })();\n",
              "      </script>\n",
              "    </div>\n",
              "\n",
              "    </div>\n",
              "  </div>\n"
            ],
            "application/vnd.google.colaboratory.intrinsic+json": {
              "type": "dataframe",
              "variable_name": "df_interacciones"
            }
          },
          "metadata": {},
          "execution_count": 192
        }
      ]
    },
    {
      "cell_type": "code",
      "source": [
        "cutoff = pd.to_datetime(\"2019-11-14\")\n",
        "train = df_interacciones[df_interacciones[\"Timestamp\"] < cutoff]\n",
        "val   = df_interacciones[df_interacciones[\"Timestamp\"] >= cutoff]"
      ],
      "metadata": {
        "id": "wvxKJNnLLciM"
      },
      "id": "wvxKJNnLLciM",
      "execution_count": 193,
      "outputs": []
    },
    {
      "cell_type": "code",
      "source": [
        "print(f\"Número de noticias mostradas train : {train['NewsID'].nunique()}\")\n",
        "print(f\"Número de noticias mostradas val   : {val['NewsID'].nunique()}\")\n",
        "print(f\"Número de noticias clickeadas train: {train[train['Clicked'] == 1]['NewsID'].nunique()}\")\n",
        "print(f\"Número de noticias clickeadas val  : {val[val['Clicked'] == 1]['NewsID'].nunique()}\")"
      ],
      "metadata": {
        "colab": {
          "base_uri": "https://localhost:8080/"
        },
        "id": "jHcDuyaz_7PV",
        "outputId": "c6c2f09c-e68e-4009-c22d-d2f48952fc51"
      },
      "id": "jHcDuyaz_7PV",
      "execution_count": 194,
      "outputs": [
        {
          "output_type": "stream",
          "name": "stdout",
          "text": [
            "Número de noticias mostradas train : 16978\n",
            "Número de noticias mostradas val   : 6144\n",
            "Número de noticias clickeadas train: 6398\n",
            "Número de noticias clickeadas val  : 2097\n"
          ]
        }
      ]
    },
    {
      "cell_type": "code",
      "source": [
        "n_usuarios_train = train[\"UserID\"].nunique()\n",
        "n_noticias_train = train[\"NewsID\"].nunique()\n",
        "n_interacciones_observadas_train = behavior_train.shape[0]\n",
        "\n",
        "densidad_train = n_interacciones_observadas_train / (n_usuarios_train * n_noticias_train)\n",
        "\n",
        "n_clics_train = train[train[\"Clicked\"] == 1].shape[0]\n",
        "densidad_clics_train = n_clics_train / (n_usuarios_train * n_noticias_train)\n",
        "\n",
        "n_usuarios_val = val[\"UserID\"].nunique()\n",
        "n_noticias_val = val[\"NewsID\"].nunique()\n",
        "n_interacciones_observadas_val = behavior_val.shape[0]\n",
        "\n",
        "densidad_val = n_interacciones_observadas_val / (n_usuarios_val * n_noticias_val)\n",
        "\n",
        "n_clics_val = val[val[\"Clicked\"] == 1].shape[0]\n",
        "densidad_clics_val = n_clics_val / (n_usuarios_val * n_noticias_val)"
      ],
      "metadata": {
        "id": "MXeXU_Z67BIV"
      },
      "id": "MXeXU_Z67BIV",
      "execution_count": 195,
      "outputs": []
    },
    {
      "cell_type": "code",
      "source": [
        "print(f\"Número de usuarios train: {n_usuarios_train}\")\n",
        "print(f\"Número de usuarios val  : {n_usuarios_val}\")\n",
        "\n",
        "print(f\"Número de noticias train: {n_noticias_train}\")\n",
        "print(f\"Número de noticias val  : {n_noticias_val}\")\n",
        "\n",
        "print(f\"Densidad (solo noticias mostradas) train : {densidad_train * 100:.3f}%\")\n",
        "print(f\"Densidad (solo noticias mostradas) val   : {densidad_val * 100:.3f}%\")\n",
        "\n",
        "print(f\"Densidad (solo noticias clickeadas) train: {densidad_clics_train * 100:.3f}%\")\n",
        "print(f\"Densidad (solo noticias clickeadas) val  : {densidad_clics_val * 100:.3f}%\")"
      ],
      "metadata": {
        "colab": {
          "base_uri": "https://localhost:8080/"
        },
        "id": "QGqIIXEZ7tAM",
        "outputId": "e52d14a5-ae31-4f58-854f-67f08f1e110c"
      },
      "id": "QGqIIXEZ7tAM",
      "execution_count": 196,
      "outputs": [
        {
          "output_type": "stream",
          "name": "stdout",
          "text": [
            "Número de usuarios train: 46012\n",
            "Número de usuarios val  : 20179\n",
            "Número de noticias train: 16978\n",
            "Número de noticias val  : 6144\n",
            "Densidad (solo noticias mostradas) train : 0.016%\n",
            "Densidad (solo noticias mostradas) val   : 0.024%\n",
            "Densidad (solo noticias clickeadas) train: 0.024%\n",
            "Densidad (solo noticias clickeadas) val  : 0.038%\n"
          ]
        }
      ]
    },
    {
      "cell_type": "code",
      "source": [
        "noticias_clickeadas_por_usuario_train = train.groupby(\"UserID\")[\"Clicked\"].agg([\"count\", \"sum\"]).reset_index()\n",
        "noticias_clickeadas_por_usuario_val = val.groupby(\"UserID\")[\"Clicked\"].agg([\"count\", \"sum\"]).reset_index()"
      ],
      "metadata": {
        "id": "EI56CBP8hbIW"
      },
      "id": "EI56CBP8hbIW",
      "execution_count": 197,
      "outputs": []
    },
    {
      "cell_type": "code",
      "source": [
        "noticias_clickeadas_por_usuario_train[\"porcentaje noticias vistas\"] = noticias_clickeadas_por_usuario_train[\"sum\"] / noticias_clickeadas_por_usuario_train[\"count\"]\n",
        "noticias_clickeadas_por_usuario_train[\"porcentaje noticias vistas\"] = (noticias_clickeadas_por_usuario_train[\"porcentaje noticias vistas\"] * 100)\n",
        "noticias_clickeadas_por_usuario_val[\"porcentaje noticias vistas\"] = noticias_clickeadas_por_usuario_val[\"sum\"] / noticias_clickeadas_por_usuario_val[\"count\"]\n",
        "noticias_clickeadas_por_usuario_val[\"porcentaje noticias vistas\"] = (noticias_clickeadas_por_usuario_val[\"porcentaje noticias vistas\"] * 100)"
      ],
      "metadata": {
        "id": "38aZ3ohjiwEB"
      },
      "id": "38aZ3ohjiwEB",
      "execution_count": 198,
      "outputs": []
    },
    {
      "cell_type": "code",
      "source": [
        "promedio_mostradas_train = noticias_clickeadas_por_usuario_train[\"count\"].mean()\n",
        "promedio_mostradas_val = noticias_clickeadas_por_usuario_val[\"count\"].mean()\n",
        "print(f\"Promedio de noticias mostradas por usuario train: {promedio_mostradas_train:.2f}\")\n",
        "print(f\"Promedio de noticias mostradas por usuario val  : {promedio_mostradas_val:.2f}\")\n",
        "\n",
        "promedio_clickeadas_train = noticias_clickeadas_por_usuario_train[\"sum\"].mean()\n",
        "promedio_clickeadas_val = noticias_clickeadas_por_usuario_val[\"sum\"].mean()\n",
        "print(f\"Promedio de noticias clickeadas por usuario train: {promedio_clickeadas_train:.2f}\")\n",
        "print(f\"Promedio de noticias clickeadas por usuario val  : {promedio_clickeadas_val:.2f}\")\n",
        "\n",
        "promedio_clickeadas_porcentaje_train = noticias_clickeadas_por_usuario_train[\"porcentaje noticias vistas\"].mean()\n",
        "promedio_clickeadas_porcentaje_val = noticias_clickeadas_por_usuario_val[\"porcentaje noticias vistas\"].mean()\n",
        "print(f\"Porcentaje promedio de noticias clickeadas por usuario train: {promedio_clickeadas_porcentaje_train:.2f}%\")\n",
        "print(f\"Porcentaje promedio de noticias clickeadas por usuario val  : {promedio_clickeadas_porcentaje_val:.2f}%\")"
      ],
      "metadata": {
        "colab": {
          "base_uri": "https://localhost:8080/"
        },
        "id": "bDJ3oF6P1yj8",
        "outputId": "86039528-9715-4744-e80b-68d1aa8cbfa6"
      },
      "id": "bDJ3oF6P1yj8",
      "execution_count": 199,
      "outputs": [
        {
          "output_type": "stream",
          "name": "stdout",
          "text": [
            "Promedio de noticias mostradas por usuario train: 100.43\n",
            "Promedio de noticias mostradas por usuario val  : 60.58\n",
            "Promedio de noticias clickeadas por usuario train: 4.12\n",
            "Promedio de noticias clickeadas por usuario val  : 2.32\n",
            "Porcentaje promedio de noticias clickeadas por usuario train: 9.07%\n",
            "Porcentaje promedio de noticias clickeadas por usuario val  : 8.29%\n"
          ]
        }
      ]
    },
    {
      "cell_type": "code",
      "source": [
        "clicks_por_noticia_train = train.groupby(\"NewsID\")[\"Clicked\"].agg([\"count\", \"sum\"]).reset_index()\n",
        "clicks_por_noticia_val = val.groupby(\"NewsID\")[\"Clicked\"].agg([\"count\", \"sum\"]).reset_index()"
      ],
      "metadata": {
        "id": "OURNPyci46YE"
      },
      "id": "OURNPyci46YE",
      "execution_count": 200,
      "outputs": []
    },
    {
      "cell_type": "code",
      "source": [
        "clicks_por_noticia_train[\"porcentaje clicks noticia\"] = clicks_por_noticia_train[\"sum\"] / clicks_por_noticia_train[\"count\"]\n",
        "clicks_por_noticia_train[\"porcentaje clicks noticia\"] = (clicks_por_noticia_train[\"porcentaje clicks noticia\"] * 100)\n",
        "\n",
        "clicks_por_noticia_val[\"porcentaje clicks noticia\"] = clicks_por_noticia_val[\"sum\"] / clicks_por_noticia_val[\"count\"]\n",
        "clicks_por_noticia_val[\"porcentaje clicks noticia\"] = (clicks_por_noticia_val[\"porcentaje clicks noticia\"] * 100)"
      ],
      "metadata": {
        "id": "pvRoujzY5AZ8"
      },
      "id": "pvRoujzY5AZ8",
      "execution_count": 201,
      "outputs": []
    },
    {
      "cell_type": "code",
      "source": [
        "promedio_mostradas_train = clicks_por_noticia_train[\"count\"].mean()\n",
        "promedio_mostradas_val = clicks_por_noticia_val[\"count\"].mean()\n",
        "print(f\"Promedio de veces que se muestra cada noticia train: {promedio_mostradas_train:.2f}\")\n",
        "print(f\"Promedio de veces que se muestra cada noticia val  : {promedio_mostradas_val:.2f}\")\n",
        "\n",
        "promedio_clickeadas_train = clicks_por_noticia_train[\"sum\"].mean()\n",
        "promedio_clickeadas_val = clicks_por_noticia_val[\"sum\"].mean()\n",
        "print(f\"Promedio de clicks por noticia train: {promedio_clickeadas_train:.2f}\")\n",
        "print(f\"Promedio de clicks por noticia val  : {promedio_clickeadas_val:.2f}\")\n",
        "\n",
        "promedio_clickeadas_porcentaje_train = clicks_por_noticia_train[\"porcentaje clicks noticia\"].mean()\n",
        "promedio_clickeadas_porcentaje_val = clicks_por_noticia_val[\"porcentaje clicks noticia\"].mean()\n",
        "print(f\"Porcentaje promedio de clicks por noticia train: {promedio_clickeadas_porcentaje_train:.2f}%\")\n",
        "print(f\"Porcentaje promedio de clicks por noticia val  : {promedio_clickeadas_porcentaje_val:.2f}%\")"
      ],
      "metadata": {
        "colab": {
          "base_uri": "https://localhost:8080/"
        },
        "id": "i2iHV93x5SaE",
        "outputId": "a525a01e-f825-47f5-cb3d-1b0614742580"
      },
      "id": "i2iHV93x5SaE",
      "execution_count": 202,
      "outputs": [
        {
          "output_type": "stream",
          "name": "stdout",
          "text": [
            "Promedio de veces que se muestra cada noticia train: 272.18\n",
            "Promedio de veces que se muestra cada noticia val  : 198.96\n",
            "Promedio de clicks por noticia train: 11.16\n",
            "Promedio de clicks por noticia val  : 7.62\n",
            "Porcentaje promedio de clicks por noticia train: 4.37%\n",
            "Porcentaje promedio de clicks por noticia val  : 3.48%\n"
          ]
        }
      ]
    },
    {
      "cell_type": "markdown",
      "id": "798abb20",
      "metadata": {
        "id": "798abb20"
      },
      "source": [
        "## Análisis de df_news"
      ]
    },
    {
      "cell_type": "code",
      "source": [
        "df_news.head()"
      ],
      "metadata": {
        "colab": {
          "base_uri": "https://localhost:8080/",
          "height": 536
        },
        "id": "0uztzCpwoY6T",
        "outputId": "1a4ae9e2-071d-47c8-bf4c-997e1a0d6f31"
      },
      "id": "0uztzCpwoY6T",
      "execution_count": 203,
      "outputs": [
        {
          "output_type": "execute_result",
          "data": {
            "text/plain": [
              "   NewsID   Category      SubCategory  \\\n",
              "0  N55528  lifestyle  lifestyleroyals   \n",
              "1  N19639     health       weightloss   \n",
              "2  N61837       news        newsworld   \n",
              "3  N53526     health           voices   \n",
              "4  N38324     health          medical   \n",
              "\n",
              "                                               Title  \\\n",
              "0  The Brands Queen Elizabeth, Prince Charles, an...   \n",
              "1                      50 Worst Habits For Belly Fat   \n",
              "2  The Cost of Trump's Aid Freeze in the Trenches...   \n",
              "3  I Was An NBA Wife. Here's How It Affected My M...   \n",
              "4  How to Get Rid of Skin Tags, According to a De...   \n",
              "\n",
              "                                            Abstract  \\\n",
              "0  Shop the notebooks, jackets, and more that the...   \n",
              "1  These seemingly harmless habits are holding yo...   \n",
              "2  Lt. Ivan Molchanets peeked over a parapet of s...   \n",
              "3  I felt like I was a fraud, and being an NBA wi...   \n",
              "4  They seem harmless, but there's a very good re...   \n",
              "\n",
              "                                             URL  \\\n",
              "0  https://assets.msn.com/labs/mind/AAGH0ET.html   \n",
              "1  https://assets.msn.com/labs/mind/AAB19MK.html   \n",
              "2  https://assets.msn.com/labs/mind/AAJgNsz.html   \n",
              "3  https://assets.msn.com/labs/mind/AACk2N6.html   \n",
              "4  https://assets.msn.com/labs/mind/AAAKEkt.html   \n",
              "\n",
              "                                       TitleEntities  \\\n",
              "0  [{\"Label\": \"Prince Philip, Duke of Edinburgh\",...   \n",
              "1  [{\"Label\": \"Adipose tissue\", \"Type\": \"C\", \"Wik...   \n",
              "2                                                 []   \n",
              "3                                                 []   \n",
              "4  [{\"Label\": \"Skin tag\", \"Type\": \"C\", \"WikidataI...   \n",
              "\n",
              "                                    AbstractEntities  \n",
              "0                                                 []  \n",
              "1  [{\"Label\": \"Adipose tissue\", \"Type\": \"C\", \"Wik...  \n",
              "2  [{\"Label\": \"Ukraine\", \"Type\": \"G\", \"WikidataId...  \n",
              "3  [{\"Label\": \"National Basketball Association\", ...  \n",
              "4  [{\"Label\": \"Skin tag\", \"Type\": \"C\", \"WikidataI...  "
            ],
            "text/html": [
              "\n",
              "  <div id=\"df-618cbd8c-90e9-4c77-9382-1d477bb954ea\" class=\"colab-df-container\">\n",
              "    <div>\n",
              "<style scoped>\n",
              "    .dataframe tbody tr th:only-of-type {\n",
              "        vertical-align: middle;\n",
              "    }\n",
              "\n",
              "    .dataframe tbody tr th {\n",
              "        vertical-align: top;\n",
              "    }\n",
              "\n",
              "    .dataframe thead th {\n",
              "        text-align: right;\n",
              "    }\n",
              "</style>\n",
              "<table border=\"1\" class=\"dataframe\">\n",
              "  <thead>\n",
              "    <tr style=\"text-align: right;\">\n",
              "      <th></th>\n",
              "      <th>NewsID</th>\n",
              "      <th>Category</th>\n",
              "      <th>SubCategory</th>\n",
              "      <th>Title</th>\n",
              "      <th>Abstract</th>\n",
              "      <th>URL</th>\n",
              "      <th>TitleEntities</th>\n",
              "      <th>AbstractEntities</th>\n",
              "    </tr>\n",
              "  </thead>\n",
              "  <tbody>\n",
              "    <tr>\n",
              "      <th>0</th>\n",
              "      <td>N55528</td>\n",
              "      <td>lifestyle</td>\n",
              "      <td>lifestyleroyals</td>\n",
              "      <td>The Brands Queen Elizabeth, Prince Charles, an...</td>\n",
              "      <td>Shop the notebooks, jackets, and more that the...</td>\n",
              "      <td>https://assets.msn.com/labs/mind/AAGH0ET.html</td>\n",
              "      <td>[{\"Label\": \"Prince Philip, Duke of Edinburgh\",...</td>\n",
              "      <td>[]</td>\n",
              "    </tr>\n",
              "    <tr>\n",
              "      <th>1</th>\n",
              "      <td>N19639</td>\n",
              "      <td>health</td>\n",
              "      <td>weightloss</td>\n",
              "      <td>50 Worst Habits For Belly Fat</td>\n",
              "      <td>These seemingly harmless habits are holding yo...</td>\n",
              "      <td>https://assets.msn.com/labs/mind/AAB19MK.html</td>\n",
              "      <td>[{\"Label\": \"Adipose tissue\", \"Type\": \"C\", \"Wik...</td>\n",
              "      <td>[{\"Label\": \"Adipose tissue\", \"Type\": \"C\", \"Wik...</td>\n",
              "    </tr>\n",
              "    <tr>\n",
              "      <th>2</th>\n",
              "      <td>N61837</td>\n",
              "      <td>news</td>\n",
              "      <td>newsworld</td>\n",
              "      <td>The Cost of Trump's Aid Freeze in the Trenches...</td>\n",
              "      <td>Lt. Ivan Molchanets peeked over a parapet of s...</td>\n",
              "      <td>https://assets.msn.com/labs/mind/AAJgNsz.html</td>\n",
              "      <td>[]</td>\n",
              "      <td>[{\"Label\": \"Ukraine\", \"Type\": \"G\", \"WikidataId...</td>\n",
              "    </tr>\n",
              "    <tr>\n",
              "      <th>3</th>\n",
              "      <td>N53526</td>\n",
              "      <td>health</td>\n",
              "      <td>voices</td>\n",
              "      <td>I Was An NBA Wife. Here's How It Affected My M...</td>\n",
              "      <td>I felt like I was a fraud, and being an NBA wi...</td>\n",
              "      <td>https://assets.msn.com/labs/mind/AACk2N6.html</td>\n",
              "      <td>[]</td>\n",
              "      <td>[{\"Label\": \"National Basketball Association\", ...</td>\n",
              "    </tr>\n",
              "    <tr>\n",
              "      <th>4</th>\n",
              "      <td>N38324</td>\n",
              "      <td>health</td>\n",
              "      <td>medical</td>\n",
              "      <td>How to Get Rid of Skin Tags, According to a De...</td>\n",
              "      <td>They seem harmless, but there's a very good re...</td>\n",
              "      <td>https://assets.msn.com/labs/mind/AAAKEkt.html</td>\n",
              "      <td>[{\"Label\": \"Skin tag\", \"Type\": \"C\", \"WikidataI...</td>\n",
              "      <td>[{\"Label\": \"Skin tag\", \"Type\": \"C\", \"WikidataI...</td>\n",
              "    </tr>\n",
              "  </tbody>\n",
              "</table>\n",
              "</div>\n",
              "    <div class=\"colab-df-buttons\">\n",
              "\n",
              "  <div class=\"colab-df-container\">\n",
              "    <button class=\"colab-df-convert\" onclick=\"convertToInteractive('df-618cbd8c-90e9-4c77-9382-1d477bb954ea')\"\n",
              "            title=\"Convert this dataframe to an interactive table.\"\n",
              "            style=\"display:none;\">\n",
              "\n",
              "  <svg xmlns=\"http://www.w3.org/2000/svg\" height=\"24px\" viewBox=\"0 -960 960 960\">\n",
              "    <path d=\"M120-120v-720h720v720H120Zm60-500h600v-160H180v160Zm220 220h160v-160H400v160Zm0 220h160v-160H400v160ZM180-400h160v-160H180v160Zm440 0h160v-160H620v160ZM180-180h160v-160H180v160Zm440 0h160v-160H620v160Z\"/>\n",
              "  </svg>\n",
              "    </button>\n",
              "\n",
              "  <style>\n",
              "    .colab-df-container {\n",
              "      display:flex;\n",
              "      gap: 12px;\n",
              "    }\n",
              "\n",
              "    .colab-df-convert {\n",
              "      background-color: #E8F0FE;\n",
              "      border: none;\n",
              "      border-radius: 50%;\n",
              "      cursor: pointer;\n",
              "      display: none;\n",
              "      fill: #1967D2;\n",
              "      height: 32px;\n",
              "      padding: 0 0 0 0;\n",
              "      width: 32px;\n",
              "    }\n",
              "\n",
              "    .colab-df-convert:hover {\n",
              "      background-color: #E2EBFA;\n",
              "      box-shadow: 0px 1px 2px rgba(60, 64, 67, 0.3), 0px 1px 3px 1px rgba(60, 64, 67, 0.15);\n",
              "      fill: #174EA6;\n",
              "    }\n",
              "\n",
              "    .colab-df-buttons div {\n",
              "      margin-bottom: 4px;\n",
              "    }\n",
              "\n",
              "    [theme=dark] .colab-df-convert {\n",
              "      background-color: #3B4455;\n",
              "      fill: #D2E3FC;\n",
              "    }\n",
              "\n",
              "    [theme=dark] .colab-df-convert:hover {\n",
              "      background-color: #434B5C;\n",
              "      box-shadow: 0px 1px 3px 1px rgba(0, 0, 0, 0.15);\n",
              "      filter: drop-shadow(0px 1px 2px rgba(0, 0, 0, 0.3));\n",
              "      fill: #FFFFFF;\n",
              "    }\n",
              "  </style>\n",
              "\n",
              "    <script>\n",
              "      const buttonEl =\n",
              "        document.querySelector('#df-618cbd8c-90e9-4c77-9382-1d477bb954ea button.colab-df-convert');\n",
              "      buttonEl.style.display =\n",
              "        google.colab.kernel.accessAllowed ? 'block' : 'none';\n",
              "\n",
              "      async function convertToInteractive(key) {\n",
              "        const element = document.querySelector('#df-618cbd8c-90e9-4c77-9382-1d477bb954ea');\n",
              "        const dataTable =\n",
              "          await google.colab.kernel.invokeFunction('convertToInteractive',\n",
              "                                                    [key], {});\n",
              "        if (!dataTable) return;\n",
              "\n",
              "        const docLinkHtml = 'Like what you see? Visit the ' +\n",
              "          '<a target=\"_blank\" href=https://colab.research.google.com/notebooks/data_table.ipynb>data table notebook</a>'\n",
              "          + ' to learn more about interactive tables.';\n",
              "        element.innerHTML = '';\n",
              "        dataTable['output_type'] = 'display_data';\n",
              "        await google.colab.output.renderOutput(dataTable, element);\n",
              "        const docLink = document.createElement('div');\n",
              "        docLink.innerHTML = docLinkHtml;\n",
              "        element.appendChild(docLink);\n",
              "      }\n",
              "    </script>\n",
              "  </div>\n",
              "\n",
              "\n",
              "    <div id=\"df-e430847b-f3ab-44f2-8d6b-f665064d3448\">\n",
              "      <button class=\"colab-df-quickchart\" onclick=\"quickchart('df-e430847b-f3ab-44f2-8d6b-f665064d3448')\"\n",
              "                title=\"Suggest charts\"\n",
              "                style=\"display:none;\">\n",
              "\n",
              "<svg xmlns=\"http://www.w3.org/2000/svg\" height=\"24px\"viewBox=\"0 0 24 24\"\n",
              "     width=\"24px\">\n",
              "    <g>\n",
              "        <path d=\"M19 3H5c-1.1 0-2 .9-2 2v14c0 1.1.9 2 2 2h14c1.1 0 2-.9 2-2V5c0-1.1-.9-2-2-2zM9 17H7v-7h2v7zm4 0h-2V7h2v10zm4 0h-2v-4h2v4z\"/>\n",
              "    </g>\n",
              "</svg>\n",
              "      </button>\n",
              "\n",
              "<style>\n",
              "  .colab-df-quickchart {\n",
              "      --bg-color: #E8F0FE;\n",
              "      --fill-color: #1967D2;\n",
              "      --hover-bg-color: #E2EBFA;\n",
              "      --hover-fill-color: #174EA6;\n",
              "      --disabled-fill-color: #AAA;\n",
              "      --disabled-bg-color: #DDD;\n",
              "  }\n",
              "\n",
              "  [theme=dark] .colab-df-quickchart {\n",
              "      --bg-color: #3B4455;\n",
              "      --fill-color: #D2E3FC;\n",
              "      --hover-bg-color: #434B5C;\n",
              "      --hover-fill-color: #FFFFFF;\n",
              "      --disabled-bg-color: #3B4455;\n",
              "      --disabled-fill-color: #666;\n",
              "  }\n",
              "\n",
              "  .colab-df-quickchart {\n",
              "    background-color: var(--bg-color);\n",
              "    border: none;\n",
              "    border-radius: 50%;\n",
              "    cursor: pointer;\n",
              "    display: none;\n",
              "    fill: var(--fill-color);\n",
              "    height: 32px;\n",
              "    padding: 0;\n",
              "    width: 32px;\n",
              "  }\n",
              "\n",
              "  .colab-df-quickchart:hover {\n",
              "    background-color: var(--hover-bg-color);\n",
              "    box-shadow: 0 1px 2px rgba(60, 64, 67, 0.3), 0 1px 3px 1px rgba(60, 64, 67, 0.15);\n",
              "    fill: var(--button-hover-fill-color);\n",
              "  }\n",
              "\n",
              "  .colab-df-quickchart-complete:disabled,\n",
              "  .colab-df-quickchart-complete:disabled:hover {\n",
              "    background-color: var(--disabled-bg-color);\n",
              "    fill: var(--disabled-fill-color);\n",
              "    box-shadow: none;\n",
              "  }\n",
              "\n",
              "  .colab-df-spinner {\n",
              "    border: 2px solid var(--fill-color);\n",
              "    border-color: transparent;\n",
              "    border-bottom-color: var(--fill-color);\n",
              "    animation:\n",
              "      spin 1s steps(1) infinite;\n",
              "  }\n",
              "\n",
              "  @keyframes spin {\n",
              "    0% {\n",
              "      border-color: transparent;\n",
              "      border-bottom-color: var(--fill-color);\n",
              "      border-left-color: var(--fill-color);\n",
              "    }\n",
              "    20% {\n",
              "      border-color: transparent;\n",
              "      border-left-color: var(--fill-color);\n",
              "      border-top-color: var(--fill-color);\n",
              "    }\n",
              "    30% {\n",
              "      border-color: transparent;\n",
              "      border-left-color: var(--fill-color);\n",
              "      border-top-color: var(--fill-color);\n",
              "      border-right-color: var(--fill-color);\n",
              "    }\n",
              "    40% {\n",
              "      border-color: transparent;\n",
              "      border-right-color: var(--fill-color);\n",
              "      border-top-color: var(--fill-color);\n",
              "    }\n",
              "    60% {\n",
              "      border-color: transparent;\n",
              "      border-right-color: var(--fill-color);\n",
              "    }\n",
              "    80% {\n",
              "      border-color: transparent;\n",
              "      border-right-color: var(--fill-color);\n",
              "      border-bottom-color: var(--fill-color);\n",
              "    }\n",
              "    90% {\n",
              "      border-color: transparent;\n",
              "      border-bottom-color: var(--fill-color);\n",
              "    }\n",
              "  }\n",
              "</style>\n",
              "\n",
              "      <script>\n",
              "        async function quickchart(key) {\n",
              "          const quickchartButtonEl =\n",
              "            document.querySelector('#' + key + ' button');\n",
              "          quickchartButtonEl.disabled = true;  // To prevent multiple clicks.\n",
              "          quickchartButtonEl.classList.add('colab-df-spinner');\n",
              "          try {\n",
              "            const charts = await google.colab.kernel.invokeFunction(\n",
              "                'suggestCharts', [key], {});\n",
              "          } catch (error) {\n",
              "            console.error('Error during call to suggestCharts:', error);\n",
              "          }\n",
              "          quickchartButtonEl.classList.remove('colab-df-spinner');\n",
              "          quickchartButtonEl.classList.add('colab-df-quickchart-complete');\n",
              "        }\n",
              "        (() => {\n",
              "          let quickchartButtonEl =\n",
              "            document.querySelector('#df-e430847b-f3ab-44f2-8d6b-f665064d3448 button');\n",
              "          quickchartButtonEl.style.display =\n",
              "            google.colab.kernel.accessAllowed ? 'block' : 'none';\n",
              "        })();\n",
              "      </script>\n",
              "    </div>\n",
              "\n",
              "    </div>\n",
              "  </div>\n"
            ],
            "application/vnd.google.colaboratory.intrinsic+json": {
              "type": "dataframe",
              "variable_name": "df_news",
              "summary": "{\n  \"name\": \"df_news\",\n  \"rows\": 51282,\n  \"fields\": [\n    {\n      \"column\": \"NewsID\",\n      \"properties\": {\n        \"dtype\": \"string\",\n        \"num_unique_values\": 51282,\n        \"samples\": [\n          \"N7433\",\n          \"N43326\",\n          \"N45745\"\n        ],\n        \"semantic_type\": \"\",\n        \"description\": \"\"\n      }\n    },\n    {\n      \"column\": \"Category\",\n      \"properties\": {\n        \"dtype\": \"category\",\n        \"num_unique_values\": 17,\n        \"samples\": [\n          \"lifestyle\",\n          \"health\",\n          \"entertainment\"\n        ],\n        \"semantic_type\": \"\",\n        \"description\": \"\"\n      }\n    },\n    {\n      \"column\": \"SubCategory\",\n      \"properties\": {\n        \"dtype\": \"category\",\n        \"num_unique_values\": 264,\n        \"samples\": [\n          \"musicnews\",\n          \"tunedin\",\n          \"finance-career-education\"\n        ],\n        \"semantic_type\": \"\",\n        \"description\": \"\"\n      }\n    },\n    {\n      \"column\": \"Title\",\n      \"properties\": {\n        \"dtype\": \"string\",\n        \"num_unique_values\": 50434,\n        \"samples\": [\n          \"Hundreds of thousands of people in California are downriver of a dam that 'could fail'\",\n          \"State Department finds no 'deliberate mishandling of classified information' related to Clinton email server\",\n          \"Over 13,000 Nationals fans attend Game 7 watch party at Nationals Park\"\n        ],\n        \"semantic_type\": \"\",\n        \"description\": \"\"\n      }\n    },\n    {\n      \"column\": \"Abstract\",\n      \"properties\": {\n        \"dtype\": \"string\",\n        \"num_unique_values\": 47309,\n        \"samples\": [\n          \"KFC recently announced that it would be adding bone-in chicken wings to its menu permanently.\",\n          \"A Greenville woman is accused of kidnapping a girl from Minnesota, bringing her to Greenville and sexually assaulting her, according to an FBI affidavit. The affidavit said authorities were notified on Sept. 8 that a girl, who is under 12 years old, was kidnapped from South St. Paul and had traveled to South Carolina between Sept. 6 and 8. Investigators said they got information that the child may be at 23-year-old Katrina Marie Aliff's...\",\n          \"This is only the fourth impeachment proceeding in our nation's history - and it could stretch into an election year. Former Democratic Congressman Steve Israel and former Hillary Clinton campaign adviser Adrienne Elrod join Chris Jansing to discuss how it could hurt - or help - certain 2020 candidates.\"\n        ],\n        \"semantic_type\": \"\",\n        \"description\": \"\"\n      }\n    },\n    {\n      \"column\": \"URL\",\n      \"properties\": {\n        \"dtype\": \"string\",\n        \"num_unique_values\": 51281,\n        \"samples\": [\n          \"https://assets.msn.com/labs/mind/AAJmWCa.html\",\n          \"https://assets.msn.com/labs/mind/AAIZ3GP.html\",\n          \"https://assets.msn.com/labs/mind/AAILU2e.html\"\n        ],\n        \"semantic_type\": \"\",\n        \"description\": \"\"\n      }\n    },\n    {\n      \"column\": \"TitleEntities\",\n      \"properties\": {\n        \"dtype\": \"string\",\n        \"num_unique_values\": 34472,\n        \"samples\": [\n          \"[{\\\"Label\\\": \\\"Chrissy Teigen\\\", \\\"Type\\\": \\\"P\\\", \\\"WikidataId\\\": \\\"Q5111202\\\", \\\"Confidence\\\": 1.0, \\\"OccurrenceOffsets\\\": [0], \\\"SurfaceForms\\\": [\\\"Chrissy Teigen\\\"]}, {\\\"Label\\\": \\\"John Legend\\\", \\\"Type\\\": \\\"P\\\", \\\"WikidataId\\\": \\\"Q44857\\\", \\\"Confidence\\\": 1.0, \\\"OccurrenceOffsets\\\": [19], \\\"SurfaceForms\\\": [\\\"John Legend\\\"]}, {\\\"Label\\\": \\\"Donald Trump\\\", \\\"Type\\\": \\\"P\\\", \\\"WikidataId\\\": \\\"Q22686\\\", \\\"Confidence\\\": 1.0, \\\"OccurrenceOffsets\\\": [57], \\\"SurfaceForms\\\": [\\\"Trump\\\"]}]\",\n          \"[{\\\"Label\\\": \\\"McDonald's\\\", \\\"Type\\\": \\\"O\\\", \\\"WikidataId\\\": \\\"Q38076\\\", \\\"Confidence\\\": 1.0, \\\"OccurrenceOffsets\\\": [22], \\\"SurfaceForms\\\": [\\\"McDonald's\\\"]}]\",\n          \"[{\\\"Label\\\": \\\"Dan Quinn (American football)\\\", \\\"Type\\\": \\\"P\\\", \\\"WikidataId\\\": \\\"Q5214234\\\", \\\"Confidence\\\": 0.992, \\\"OccurrenceOffsets\\\": [38], \\\"SurfaceForms\\\": [\\\"Dan Quinn\\\"]}]\"\n        ],\n        \"semantic_type\": \"\",\n        \"description\": \"\"\n      }\n    },\n    {\n      \"column\": \"AbstractEntities\",\n      \"properties\": {\n        \"dtype\": \"string\",\n        \"num_unique_values\": 36277,\n        \"samples\": [\n          \"[{\\\"Label\\\": \\\"Santa Anita Park\\\", \\\"Type\\\": \\\"F\\\", \\\"WikidataId\\\": \\\"Q1126370\\\", \\\"Confidence\\\": 1.0, \\\"OccurrenceOffsets\\\": [10], \\\"SurfaceForms\\\": [\\\"Santa Anita Park\\\"]}]\",\n          \"[{\\\"Label\\\": \\\"Lexington, Kentucky\\\", \\\"Type\\\": \\\"G\\\", \\\"WikidataId\\\": \\\"Q49241\\\", \\\"Confidence\\\": 1.0, \\\"OccurrenceOffsets\\\": [0], \\\"SurfaceForms\\\": [\\\"LEXINGTON\\\"]}, {\\\"Label\\\": \\\"Immanuel Quickley\\\", \\\"Type\\\": \\\"N\\\", \\\"WikidataId\\\": \\\"Q55433150\\\", \\\"Confidence\\\": 1.0, \\\"OccurrenceOffsets\\\": [27, 300], \\\"SurfaceForms\\\": [\\\"Immanuel Quickley\\\", \\\"Quickley\\\"]}, {\\\"Label\\\": \\\"AP Poll\\\", \\\"Type\\\": \\\"U\\\", \\\"WikidataId\\\": \\\"Q4653492\\\", \\\"Confidence\\\": 1.0, \\\"OccurrenceOffsets\\\": [140], \\\"SurfaceForms\\\": [\\\"Top 25\\\"]}, {\\\"Label\\\": \\\"Associated Press\\\", \\\"Type\\\": \\\"O\\\", \\\"WikidataId\\\": \\\"Q40469\\\", \\\"Confidence\\\": 0.991, \\\"OccurrenceOffsets\\\": [119], \\\"SurfaceForms\\\": [\\\"The Associated Press\\\"]}]\",\n          \"[{\\\"Label\\\": \\\"Hennepin County Medical Center\\\", \\\"Type\\\": \\\"F\\\", \\\"WikidataId\\\": \\\"Q5714832\\\", \\\"Confidence\\\": 1.0, \\\"OccurrenceOffsets\\\": [248], \\\"SurfaceForms\\\": [\\\"Hennepin Healthcare\\\"]}, {\\\"Label\\\": \\\"Medicaid\\\", \\\"Type\\\": \\\"U\\\", \\\"WikidataId\\\": \\\"Q1141363\\\", \\\"Confidence\\\": 1.0, \\\"OccurrenceOffsets\\\": [212], \\\"SurfaceForms\\\": [\\\"Medicaid\\\"]}, {\\\"Label\\\": \\\"Presidency of Donald Trump\\\", \\\"Type\\\": \\\"U\\\", \\\"WikidataId\\\": \\\"Q27809653\\\", \\\"Confidence\\\": 0.976, \\\"OccurrenceOffsets\\\": [129], \\\"SurfaceForms\\\": [\\\"Trump administration\\\"]}]\"\n        ],\n        \"semantic_type\": \"\",\n        \"description\": \"\"\n      }\n    }\n  ]\n}"
            }
          },
          "metadata": {},
          "execution_count": 203
        }
      ]
    },
    {
      "cell_type": "code",
      "execution_count": 204,
      "id": "bd6ef9c4",
      "metadata": {
        "id": "bd6ef9c4",
        "colab": {
          "base_uri": "https://localhost:8080/"
        },
        "outputId": "4de16fae-37c8-468f-de9e-6b6ab75326ee"
      },
      "outputs": [
        {
          "output_type": "stream",
          "name": "stdout",
          "text": [
            "Número de noticias: 51282\n",
            "Número de categorías: 17\n",
            "Categorías: ['lifestyle', 'health', 'news', 'sports', 'weather', 'entertainment', 'autos', 'travel', 'foodanddrink', 'tv', 'finance', 'movies', 'video', 'music', 'kids', 'middleeast', 'northamerica']\n",
            "Número de SubCategorías: 264\n"
          ]
        }
      ],
      "source": [
        "print(f\"Número de noticias: {df_news['NewsID'].nunique()}\")\n",
        "print(f\"Número de categorías: {df_news['Category'].nunique()}\")\n",
        "print(f\"Categorías: {df_news['Category'].unique().tolist()}\")\n",
        "print(f\"Número de SubCategorías: {df_news['SubCategory'].nunique()}\")"
      ]
    },
    {
      "cell_type": "code",
      "execution_count": 205,
      "id": "d6ec01dd",
      "metadata": {
        "id": "d6ec01dd",
        "colab": {
          "base_uri": "https://localhost:8080/",
          "height": 143
        },
        "outputId": "a8126a19-e5b7-4008-a4f9-305e14b85b41"
      },
      "outputs": [
        {
          "output_type": "execute_result",
          "data": {
            "text/plain": [
              "            Columna  Cantidad valores nulos\n",
              "0          Abstract                    2666\n",
              "1     TitleEntities                       3\n",
              "2  AbstractEntities                       4"
            ],
            "text/html": [
              "\n",
              "  <div id=\"df-991c3c8b-2fa0-4716-97c0-a78694533ddb\" class=\"colab-df-container\">\n",
              "    <div>\n",
              "<style scoped>\n",
              "    .dataframe tbody tr th:only-of-type {\n",
              "        vertical-align: middle;\n",
              "    }\n",
              "\n",
              "    .dataframe tbody tr th {\n",
              "        vertical-align: top;\n",
              "    }\n",
              "\n",
              "    .dataframe thead th {\n",
              "        text-align: right;\n",
              "    }\n",
              "</style>\n",
              "<table border=\"1\" class=\"dataframe\">\n",
              "  <thead>\n",
              "    <tr style=\"text-align: right;\">\n",
              "      <th></th>\n",
              "      <th>Columna</th>\n",
              "      <th>Cantidad valores nulos</th>\n",
              "    </tr>\n",
              "  </thead>\n",
              "  <tbody>\n",
              "    <tr>\n",
              "      <th>0</th>\n",
              "      <td>Abstract</td>\n",
              "      <td>2666</td>\n",
              "    </tr>\n",
              "    <tr>\n",
              "      <th>1</th>\n",
              "      <td>TitleEntities</td>\n",
              "      <td>3</td>\n",
              "    </tr>\n",
              "    <tr>\n",
              "      <th>2</th>\n",
              "      <td>AbstractEntities</td>\n",
              "      <td>4</td>\n",
              "    </tr>\n",
              "  </tbody>\n",
              "</table>\n",
              "</div>\n",
              "    <div class=\"colab-df-buttons\">\n",
              "\n",
              "  <div class=\"colab-df-container\">\n",
              "    <button class=\"colab-df-convert\" onclick=\"convertToInteractive('df-991c3c8b-2fa0-4716-97c0-a78694533ddb')\"\n",
              "            title=\"Convert this dataframe to an interactive table.\"\n",
              "            style=\"display:none;\">\n",
              "\n",
              "  <svg xmlns=\"http://www.w3.org/2000/svg\" height=\"24px\" viewBox=\"0 -960 960 960\">\n",
              "    <path d=\"M120-120v-720h720v720H120Zm60-500h600v-160H180v160Zm220 220h160v-160H400v160Zm0 220h160v-160H400v160ZM180-400h160v-160H180v160Zm440 0h160v-160H620v160ZM180-180h160v-160H180v160Zm440 0h160v-160H620v160Z\"/>\n",
              "  </svg>\n",
              "    </button>\n",
              "\n",
              "  <style>\n",
              "    .colab-df-container {\n",
              "      display:flex;\n",
              "      gap: 12px;\n",
              "    }\n",
              "\n",
              "    .colab-df-convert {\n",
              "      background-color: #E8F0FE;\n",
              "      border: none;\n",
              "      border-radius: 50%;\n",
              "      cursor: pointer;\n",
              "      display: none;\n",
              "      fill: #1967D2;\n",
              "      height: 32px;\n",
              "      padding: 0 0 0 0;\n",
              "      width: 32px;\n",
              "    }\n",
              "\n",
              "    .colab-df-convert:hover {\n",
              "      background-color: #E2EBFA;\n",
              "      box-shadow: 0px 1px 2px rgba(60, 64, 67, 0.3), 0px 1px 3px 1px rgba(60, 64, 67, 0.15);\n",
              "      fill: #174EA6;\n",
              "    }\n",
              "\n",
              "    .colab-df-buttons div {\n",
              "      margin-bottom: 4px;\n",
              "    }\n",
              "\n",
              "    [theme=dark] .colab-df-convert {\n",
              "      background-color: #3B4455;\n",
              "      fill: #D2E3FC;\n",
              "    }\n",
              "\n",
              "    [theme=dark] .colab-df-convert:hover {\n",
              "      background-color: #434B5C;\n",
              "      box-shadow: 0px 1px 3px 1px rgba(0, 0, 0, 0.15);\n",
              "      filter: drop-shadow(0px 1px 2px rgba(0, 0, 0, 0.3));\n",
              "      fill: #FFFFFF;\n",
              "    }\n",
              "  </style>\n",
              "\n",
              "    <script>\n",
              "      const buttonEl =\n",
              "        document.querySelector('#df-991c3c8b-2fa0-4716-97c0-a78694533ddb button.colab-df-convert');\n",
              "      buttonEl.style.display =\n",
              "        google.colab.kernel.accessAllowed ? 'block' : 'none';\n",
              "\n",
              "      async function convertToInteractive(key) {\n",
              "        const element = document.querySelector('#df-991c3c8b-2fa0-4716-97c0-a78694533ddb');\n",
              "        const dataTable =\n",
              "          await google.colab.kernel.invokeFunction('convertToInteractive',\n",
              "                                                    [key], {});\n",
              "        if (!dataTable) return;\n",
              "\n",
              "        const docLinkHtml = 'Like what you see? Visit the ' +\n",
              "          '<a target=\"_blank\" href=https://colab.research.google.com/notebooks/data_table.ipynb>data table notebook</a>'\n",
              "          + ' to learn more about interactive tables.';\n",
              "        element.innerHTML = '';\n",
              "        dataTable['output_type'] = 'display_data';\n",
              "        await google.colab.output.renderOutput(dataTable, element);\n",
              "        const docLink = document.createElement('div');\n",
              "        docLink.innerHTML = docLinkHtml;\n",
              "        element.appendChild(docLink);\n",
              "      }\n",
              "    </script>\n",
              "  </div>\n",
              "\n",
              "\n",
              "    <div id=\"df-7a7b01ae-19c7-4c66-abe7-f1cf14e165c6\">\n",
              "      <button class=\"colab-df-quickchart\" onclick=\"quickchart('df-7a7b01ae-19c7-4c66-abe7-f1cf14e165c6')\"\n",
              "                title=\"Suggest charts\"\n",
              "                style=\"display:none;\">\n",
              "\n",
              "<svg xmlns=\"http://www.w3.org/2000/svg\" height=\"24px\"viewBox=\"0 0 24 24\"\n",
              "     width=\"24px\">\n",
              "    <g>\n",
              "        <path d=\"M19 3H5c-1.1 0-2 .9-2 2v14c0 1.1.9 2 2 2h14c1.1 0 2-.9 2-2V5c0-1.1-.9-2-2-2zM9 17H7v-7h2v7zm4 0h-2V7h2v10zm4 0h-2v-4h2v4z\"/>\n",
              "    </g>\n",
              "</svg>\n",
              "      </button>\n",
              "\n",
              "<style>\n",
              "  .colab-df-quickchart {\n",
              "      --bg-color: #E8F0FE;\n",
              "      --fill-color: #1967D2;\n",
              "      --hover-bg-color: #E2EBFA;\n",
              "      --hover-fill-color: #174EA6;\n",
              "      --disabled-fill-color: #AAA;\n",
              "      --disabled-bg-color: #DDD;\n",
              "  }\n",
              "\n",
              "  [theme=dark] .colab-df-quickchart {\n",
              "      --bg-color: #3B4455;\n",
              "      --fill-color: #D2E3FC;\n",
              "      --hover-bg-color: #434B5C;\n",
              "      --hover-fill-color: #FFFFFF;\n",
              "      --disabled-bg-color: #3B4455;\n",
              "      --disabled-fill-color: #666;\n",
              "  }\n",
              "\n",
              "  .colab-df-quickchart {\n",
              "    background-color: var(--bg-color);\n",
              "    border: none;\n",
              "    border-radius: 50%;\n",
              "    cursor: pointer;\n",
              "    display: none;\n",
              "    fill: var(--fill-color);\n",
              "    height: 32px;\n",
              "    padding: 0;\n",
              "    width: 32px;\n",
              "  }\n",
              "\n",
              "  .colab-df-quickchart:hover {\n",
              "    background-color: var(--hover-bg-color);\n",
              "    box-shadow: 0 1px 2px rgba(60, 64, 67, 0.3), 0 1px 3px 1px rgba(60, 64, 67, 0.15);\n",
              "    fill: var(--button-hover-fill-color);\n",
              "  }\n",
              "\n",
              "  .colab-df-quickchart-complete:disabled,\n",
              "  .colab-df-quickchart-complete:disabled:hover {\n",
              "    background-color: var(--disabled-bg-color);\n",
              "    fill: var(--disabled-fill-color);\n",
              "    box-shadow: none;\n",
              "  }\n",
              "\n",
              "  .colab-df-spinner {\n",
              "    border: 2px solid var(--fill-color);\n",
              "    border-color: transparent;\n",
              "    border-bottom-color: var(--fill-color);\n",
              "    animation:\n",
              "      spin 1s steps(1) infinite;\n",
              "  }\n",
              "\n",
              "  @keyframes spin {\n",
              "    0% {\n",
              "      border-color: transparent;\n",
              "      border-bottom-color: var(--fill-color);\n",
              "      border-left-color: var(--fill-color);\n",
              "    }\n",
              "    20% {\n",
              "      border-color: transparent;\n",
              "      border-left-color: var(--fill-color);\n",
              "      border-top-color: var(--fill-color);\n",
              "    }\n",
              "    30% {\n",
              "      border-color: transparent;\n",
              "      border-left-color: var(--fill-color);\n",
              "      border-top-color: var(--fill-color);\n",
              "      border-right-color: var(--fill-color);\n",
              "    }\n",
              "    40% {\n",
              "      border-color: transparent;\n",
              "      border-right-color: var(--fill-color);\n",
              "      border-top-color: var(--fill-color);\n",
              "    }\n",
              "    60% {\n",
              "      border-color: transparent;\n",
              "      border-right-color: var(--fill-color);\n",
              "    }\n",
              "    80% {\n",
              "      border-color: transparent;\n",
              "      border-right-color: var(--fill-color);\n",
              "      border-bottom-color: var(--fill-color);\n",
              "    }\n",
              "    90% {\n",
              "      border-color: transparent;\n",
              "      border-bottom-color: var(--fill-color);\n",
              "    }\n",
              "  }\n",
              "</style>\n",
              "\n",
              "      <script>\n",
              "        async function quickchart(key) {\n",
              "          const quickchartButtonEl =\n",
              "            document.querySelector('#' + key + ' button');\n",
              "          quickchartButtonEl.disabled = true;  // To prevent multiple clicks.\n",
              "          quickchartButtonEl.classList.add('colab-df-spinner');\n",
              "          try {\n",
              "            const charts = await google.colab.kernel.invokeFunction(\n",
              "                'suggestCharts', [key], {});\n",
              "          } catch (error) {\n",
              "            console.error('Error during call to suggestCharts:', error);\n",
              "          }\n",
              "          quickchartButtonEl.classList.remove('colab-df-spinner');\n",
              "          quickchartButtonEl.classList.add('colab-df-quickchart-complete');\n",
              "        }\n",
              "        (() => {\n",
              "          let quickchartButtonEl =\n",
              "            document.querySelector('#df-7a7b01ae-19c7-4c66-abe7-f1cf14e165c6 button');\n",
              "          quickchartButtonEl.style.display =\n",
              "            google.colab.kernel.accessAllowed ? 'block' : 'none';\n",
              "        })();\n",
              "      </script>\n",
              "    </div>\n",
              "\n",
              "  <div id=\"id_4481882d-c649-441b-8639-965641c56bd7\">\n",
              "    <style>\n",
              "      .colab-df-generate {\n",
              "        background-color: #E8F0FE;\n",
              "        border: none;\n",
              "        border-radius: 50%;\n",
              "        cursor: pointer;\n",
              "        display: none;\n",
              "        fill: #1967D2;\n",
              "        height: 32px;\n",
              "        padding: 0 0 0 0;\n",
              "        width: 32px;\n",
              "      }\n",
              "\n",
              "      .colab-df-generate:hover {\n",
              "        background-color: #E2EBFA;\n",
              "        box-shadow: 0px 1px 2px rgba(60, 64, 67, 0.3), 0px 1px 3px 1px rgba(60, 64, 67, 0.15);\n",
              "        fill: #174EA6;\n",
              "      }\n",
              "\n",
              "      [theme=dark] .colab-df-generate {\n",
              "        background-color: #3B4455;\n",
              "        fill: #D2E3FC;\n",
              "      }\n",
              "\n",
              "      [theme=dark] .colab-df-generate:hover {\n",
              "        background-color: #434B5C;\n",
              "        box-shadow: 0px 1px 3px 1px rgba(0, 0, 0, 0.15);\n",
              "        filter: drop-shadow(0px 1px 2px rgba(0, 0, 0, 0.3));\n",
              "        fill: #FFFFFF;\n",
              "      }\n",
              "    </style>\n",
              "    <button class=\"colab-df-generate\" onclick=\"generateWithVariable('nulos_news')\"\n",
              "            title=\"Generate code using this dataframe.\"\n",
              "            style=\"display:none;\">\n",
              "\n",
              "  <svg xmlns=\"http://www.w3.org/2000/svg\" height=\"24px\"viewBox=\"0 0 24 24\"\n",
              "       width=\"24px\">\n",
              "    <path d=\"M7,19H8.4L18.45,9,17,7.55,7,17.6ZM5,21V16.75L18.45,3.32a2,2,0,0,1,2.83,0l1.4,1.43a1.91,1.91,0,0,1,.58,1.4,1.91,1.91,0,0,1-.58,1.4L9.25,21ZM18.45,9,17,7.55Zm-12,3A5.31,5.31,0,0,0,4.9,8.1,5.31,5.31,0,0,0,1,6.5,5.31,5.31,0,0,0,4.9,4.9,5.31,5.31,0,0,0,6.5,1,5.31,5.31,0,0,0,8.1,4.9,5.31,5.31,0,0,0,12,6.5,5.46,5.46,0,0,0,6.5,12Z\"/>\n",
              "  </svg>\n",
              "    </button>\n",
              "    <script>\n",
              "      (() => {\n",
              "      const buttonEl =\n",
              "        document.querySelector('#id_4481882d-c649-441b-8639-965641c56bd7 button.colab-df-generate');\n",
              "      buttonEl.style.display =\n",
              "        google.colab.kernel.accessAllowed ? 'block' : 'none';\n",
              "\n",
              "      buttonEl.onclick = () => {\n",
              "        google.colab.notebook.generateWithVariable('nulos_news');\n",
              "      }\n",
              "      })();\n",
              "    </script>\n",
              "  </div>\n",
              "\n",
              "    </div>\n",
              "  </div>\n"
            ],
            "application/vnd.google.colaboratory.intrinsic+json": {
              "type": "dataframe",
              "variable_name": "nulos_news",
              "summary": "{\n  \"name\": \"nulos_news\",\n  \"rows\": 3,\n  \"fields\": [\n    {\n      \"column\": \"Columna\",\n      \"properties\": {\n        \"dtype\": \"string\",\n        \"num_unique_values\": 3,\n        \"samples\": [\n          \"Abstract\",\n          \"TitleEntities\",\n          \"AbstractEntities\"\n        ],\n        \"semantic_type\": \"\",\n        \"description\": \"\"\n      }\n    },\n    {\n      \"column\": \"Cantidad valores nulos\",\n      \"properties\": {\n        \"dtype\": \"number\",\n        \"std\": 1537,\n        \"min\": 3,\n        \"max\": 2666,\n        \"num_unique_values\": 3,\n        \"samples\": [\n          2666,\n          3,\n          4\n        ],\n        \"semantic_type\": \"\",\n        \"description\": \"\"\n      }\n    }\n  ]\n}"
            }
          },
          "metadata": {},
          "execution_count": 205
        }
      ],
      "source": [
        "nulos_news = df_news.isnull().sum()[df_news.isnull().sum() > 0].reset_index()\n",
        "nulos_news.columns = [\"Columna\", \"Cantidad valores nulos\"]\n",
        "nulos_news"
      ]
    },
    {
      "cell_type": "code",
      "source": [
        "df_news[\"Abstract\"] = df_news[\"Abstract\"].fillna(\"\")\n",
        "df_news[\"TitleEntities\"] = df_news[\"TitleEntities\"].fillna(\"[]\")\n",
        "df_news[\"AbstractEntities\"] = df_news[\"AbstractEntities\"].fillna(\"[]\")"
      ],
      "metadata": {
        "id": "kxf4FWxioNjS"
      },
      "id": "kxf4FWxioNjS",
      "execution_count": 206,
      "outputs": []
    },
    {
      "cell_type": "markdown",
      "source": [
        "Se rellenan los valores debido a que es una cantidad importante de las noticias del dataset"
      ],
      "metadata": {
        "id": "1Q_O1N9rpXNP"
      },
      "id": "1Q_O1N9rpXNP"
    },
    {
      "cell_type": "code",
      "source": [
        "df_news[\"AbstractEntities\"][1]"
      ],
      "metadata": {
        "colab": {
          "base_uri": "https://localhost:8080/",
          "height": 53
        },
        "id": "Q1RlMHFKpJeT",
        "outputId": "f2117fd2-42b8-40ce-de67-9bc839e1e720"
      },
      "id": "Q1RlMHFKpJeT",
      "execution_count": 207,
      "outputs": [
        {
          "output_type": "execute_result",
          "data": {
            "text/plain": [
              "'[{\"Label\": \"Adipose tissue\", \"Type\": \"C\", \"WikidataId\": \"Q193583\", \"Confidence\": 1.0, \"OccurrenceOffsets\": [97], \"SurfaceForms\": [\"belly fat\"]}]'"
            ],
            "application/vnd.google.colaboratory.intrinsic+json": {
              "type": "string"
            }
          },
          "metadata": {},
          "execution_count": 207
        }
      ]
    },
    {
      "cell_type": "markdown",
      "source": [
        "## Recomendadores"
      ],
      "metadata": {
        "id": "dx51st5bsc1E"
      },
      "id": "dx51st5bsc1E"
    },
    {
      "cell_type": "code",
      "source": [
        "df_interacciones.info()"
      ],
      "metadata": {
        "colab": {
          "base_uri": "https://localhost:8080/"
        },
        "id": "X5eAwNZ4sd4s",
        "outputId": "fb73a245-ffde-47ec-fd21-988db018999b"
      },
      "id": "X5eAwNZ4sd4s",
      "execution_count": 208,
      "outputs": [
        {
          "output_type": "stream",
          "name": "stdout",
          "text": [
            "<class 'pandas.core.frame.DataFrame'>\n",
            "RangeIndex: 5843444 entries, 0 to 5843443\n",
            "Data columns (total 4 columns):\n",
            " #   Column     Dtype         \n",
            "---  ------     -----         \n",
            " 0   UserID     object        \n",
            " 1   NewsID     object        \n",
            " 2   Clicked    int64         \n",
            " 3   Timestamp  datetime64[ns]\n",
            "dtypes: datetime64[ns](1), int64(1), object(2)\n",
            "memory usage: 178.3+ MB\n"
          ]
        }
      ]
    },
    {
      "cell_type": "code",
      "source": [
        "print(f\"El dataset de entrenamiento tiene un {(train.shape[0] / df_interacciones.shape[0]) * 100:.2f}% de los datos\")\n",
        "print(f\"El dataset de validación tiene un {(val.shape[0] / df_interacciones.shape[0]) * 100:.2f}% de los datos\")"
      ],
      "metadata": {
        "colab": {
          "base_uri": "https://localhost:8080/"
        },
        "id": "MdvfWx_v4cuD",
        "outputId": "aca5db76-2e76-4e30-83c2-6e3c21849d33"
      },
      "id": "MdvfWx_v4cuD",
      "execution_count": 209,
      "outputs": [
        {
          "output_type": "stream",
          "name": "stdout",
          "text": [
            "El dataset de entrenamiento tiene un 79.08% de los datos\n",
            "El dataset de validación tiene un 20.92% de los datos\n"
          ]
        }
      ]
    },
    {
      "cell_type": "code",
      "source": [
        "noticias_disponibles = df_interacciones[\"NewsID\"].unique()"
      ],
      "metadata": {
        "id": "thI2WWd-54yu"
      },
      "id": "thI2WWd-54yu",
      "execution_count": 210,
      "outputs": []
    },
    {
      "cell_type": "code",
      "source": [
        "from collections import defaultdict\n",
        "\n",
        "clicks_verdaderos = defaultdict(set)\n",
        "\n",
        "for _, row in val[val[\"Clicked\"] == 1].iterrows():\n",
        "    clicks_verdaderos[row[\"UserID\"]].add(row[\"NewsID\"])"
      ],
      "metadata": {
        "id": "zjbSPrw143OR"
      },
      "id": "zjbSPrw143OR",
      "execution_count": 211,
      "outputs": []
    },
    {
      "cell_type": "code",
      "source": [
        "def recomendar_random(noticias, k=10):\n",
        "    return np.random.choice(noticias, size=k, replace=False).tolist()\n",
        "\n",
        "recomendaciones = {\n",
        "    user: recomendar_random(noticias_disponibles, k=10)\n",
        "    for user in clicks_verdaderos.keys()\n",
        "}"
      ],
      "metadata": {
        "id": "l00GjO-J51aL"
      },
      "id": "l00GjO-J51aL",
      "execution_count": 212,
      "outputs": []
    },
    {
      "cell_type": "code",
      "source": [
        "recall_sum = 0\n",
        "\n",
        "for user, reales in clicks_verdaderos.items():\n",
        "    predichas = set(recomendaciones[user])\n",
        "    hits = len(predichas & reales)\n",
        "    recall_sum += hits / len(reales)\n",
        "\n",
        "recall_at_10 = recall_sum / len(clicks_verdaderos)\n",
        "print(f\"Recall@10 del recomendador aleatorio: {recall_at_10:.4f}\")"
      ],
      "metadata": {
        "colab": {
          "base_uri": "https://localhost:8080/"
        },
        "id": "0enMixgZ527r",
        "outputId": "36463c94-5e19-452c-d4d4-56f657bc5847"
      },
      "id": "0enMixgZ527r",
      "execution_count": 213,
      "outputs": [
        {
          "output_type": "stream",
          "name": "stdout",
          "text": [
            "Recall@10 del recomendador aleatorio: 0.0005\n"
          ]
        }
      ]
    },
    {
      "cell_type": "markdown",
      "source": [
        "### Most Popular"
      ],
      "metadata": {
        "id": "0VDAW2Av_azt"
      },
      "id": "0VDAW2Av_azt"
    },
    {
      "cell_type": "code",
      "source": [
        "popularidad = (train[train[\"Clicked\"] == 1].groupby(\"NewsID\").size().sort_values(ascending=False)\n",
        ")\n",
        "\n",
        "top_noticias = popularidad.index.tolist()  # Noticias ordenadas de más a menos populares"
      ],
      "metadata": {
        "id": "_U2ANbIR_aDz"
      },
      "id": "_U2ANbIR_aDz",
      "execution_count": 214,
      "outputs": []
    },
    {
      "cell_type": "code",
      "source": [
        "recomendaciones_populares = {\n",
        "    user: top_noticias[:10]\n",
        "    for user in clicks_verdaderos.keys()  # los mismos usuarios con ground truth que usaste antes\n",
        "}"
      ],
      "metadata": {
        "id": "Tp0vT9rN_qZ5"
      },
      "id": "Tp0vT9rN_qZ5",
      "execution_count": 215,
      "outputs": []
    },
    {
      "cell_type": "code",
      "source": [
        "recall_sum = 0\n",
        "\n",
        "for user, reales in clicks_verdaderos.items():\n",
        "    predichas = set(recomendaciones_populares[user])\n",
        "    hits = len(predichas & reales)\n",
        "    recall_sum += hits / len(reales)\n",
        "\n",
        "recall_at_10_popular = recall_sum / len(clicks_verdaderos)\n",
        "print(f\"Recall@10 del recomendador por popularidad: {recall_at_10_popular:.4f}\")\n"
      ],
      "metadata": {
        "colab": {
          "base_uri": "https://localhost:8080/"
        },
        "id": "3RPHRQEh_rwN",
        "outputId": "6efee067-3a29-441a-955f-2c09c40c9f3d"
      },
      "id": "3RPHRQEh_rwN",
      "execution_count": 216,
      "outputs": [
        {
          "output_type": "stream",
          "name": "stdout",
          "text": [
            "Recall@10 del recomendador por popularidad: 0.0001\n"
          ]
        }
      ]
    },
    {
      "cell_type": "code",
      "source": [
        "# Crear diccionario de popularidad\n",
        "popularidad_dict = popularidad.to_dict()\n",
        "\n",
        "# Recomendaciones populares entre las noticias que realmente se le mostraron a cada usuario\n",
        "recomendaciones_populares_filtradas = {}\n",
        "\n",
        "# Agrupar validación por usuario y timestamp\n",
        "for (user, timestamp), group in train.groupby([\"UserID\", \"Timestamp\"]):\n",
        "    noticias_mostradas = group[\"NewsID\"].tolist()\n",
        "\n",
        "    # Ordenar las noticias por popularidad (entre las mostradas)\n",
        "    ordenadas = sorted(noticias_mostradas, key=lambda x: popularidad_dict.get(x, 0), reverse=True)\n",
        "\n",
        "    recomendaciones_populares_filtradas[user] = ordenadas[:10]  # top-10 entre sus opciones"
      ],
      "metadata": {
        "id": "3-zkBI0mALGY"
      },
      "id": "3-zkBI0mALGY",
      "execution_count": 217,
      "outputs": []
    },
    {
      "cell_type": "code",
      "source": [
        "recall_sum = 0\n",
        "\n",
        "for user, reales in clicks_verdaderos.items():\n",
        "    predichas = set(recomendaciones_populares_filtradas.get(user, []))\n",
        "    hits = len(predichas & reales)\n",
        "    recall_sum += hits / len(reales)\n",
        "\n",
        "recall_at_10_pop_filtrado = recall_sum / len(clicks_verdaderos)\n",
        "print(f\"Recall@10 del recomendador por popularidad (filtrado): {recall_at_10_pop_filtrado:.4f}\")\n"
      ],
      "metadata": {
        "colab": {
          "base_uri": "https://localhost:8080/"
        },
        "id": "B06gTur092aF",
        "outputId": "e9d30e1a-82b2-43c3-8395-b06e35383681"
      },
      "id": "B06gTur092aF",
      "execution_count": 218,
      "outputs": [
        {
          "output_type": "stream",
          "name": "stdout",
          "text": [
            "Recall@10 del recomendador por popularidad (filtrado): 0.0045\n"
          ]
        }
      ]
    },
    {
      "cell_type": "code",
      "source": [
        "# # Surprise requiere estas columnas: user, item, rating\n",
        "# # En nuestro caso, rating = Clicked (0 o 1)\n",
        "# reader = Reader(rating_scale=(0, 1))\n",
        "# data = Dataset.load_from_df(train[[\"UserID\", \"NewsID\", \"Clicked\"]], reader)\n",
        "\n",
        "# # Usamos nuestra propia división train/val si ya la tienes:\n",
        "# trainset = data.build_full_trainset()  # si quieres usar todos los datos"
      ],
      "metadata": {
        "id": "QP2Iah4sJSxd"
      },
      "id": "QP2Iah4sJSxd",
      "execution_count": 219,
      "outputs": []
    },
    {
      "cell_type": "code",
      "source": [
        "# from surprise import KNNBasic\n",
        "\n",
        "# sim_options = {\n",
        "#     \"name\": \"pearson_baseline\",\n",
        "#     \"user_based\": False\n",
        "# }\n",
        "\n",
        "# model = KNNBasic(sim_options=sim_options, k=20)\n",
        "# model.fit(trainset)"
      ],
      "metadata": {
        "id": "mtpkHBVRKztx"
      },
      "id": "mtpkHBVRKztx",
      "execution_count": 220,
      "outputs": []
    },
    {
      "cell_type": "code",
      "source": [
        "# user_id = \"U13740\"\n",
        "# news_candidatas = val[val[\"UserID\"] == user_id][\"NewsID\"].unique()\n",
        "\n",
        "# # Predecir score para cada noticia\n",
        "# predicciones = [model.predict(user_id, news_id) for news_id in news_candidatas]\n",
        "\n",
        "# # Ordenar por score y tomar las top 10\n",
        "# top_10 = sorted(predicciones, key=lambda x: x.est, reverse=True)[:10]\n",
        "# recomendadas = [pred.iid for pred in top_10]\n"
      ],
      "metadata": {
        "id": "tkaqVdqpMixl"
      },
      "id": "tkaqVdqpMixl",
      "execution_count": 221,
      "outputs": []
    },
    {
      "cell_type": "code",
      "source": [
        "# from collections import defaultdict\n",
        "\n",
        "# # Ground truth\n",
        "# clicks_verdaderos_val = val[val[\"Clicked\"] == 1].groupby(\"UserID\")[\"NewsID\"].apply(set).to_dict()\n",
        "# usuarios_val = val[\"UserID\"].unique()\n",
        "\n",
        "# recall_total = 0\n",
        "# usuarios_con_clics = 0\n",
        "\n",
        "# for user in usuarios_val:\n",
        "#     reales = clicks_verdaderos_val.get(user, set())\n",
        "#     if len(reales) == 0:\n",
        "#         continue\n",
        "\n",
        "#     news_candidatas = val[val[\"UserID\"] == user][\"NewsID\"].unique()\n",
        "#     preds = [model.predict(user, item) for item in news_candidatas]\n",
        "#     top_10 = sorted(preds, key=lambda x: x.est, reverse=True)[:10]\n",
        "#     predichas = set([p.iid for p in top_10])\n",
        "\n",
        "#     hits = len(predichas & reales)\n",
        "#     recall_total += hits / len(reales)\n",
        "#     usuarios_con_clics += 1\n",
        "\n",
        "# recall_surprise = recall_total / usuarios_con_clics\n",
        "# print(f\"Recall@10 con UserKNN (surprise): {recall_surprise:.4f}\")\n"
      ],
      "metadata": {
        "id": "t3iKEg9PMlD4"
      },
      "id": "t3iKEg9PMlD4",
      "execution_count": 222,
      "outputs": []
    }
  ],
  "metadata": {
    "kernelspec": {
      "display_name": "Python 3 (ipykernel)",
      "language": "python",
      "name": "python3"
    },
    "language_info": {
      "codemirror_mode": {
        "name": "ipython",
        "version": 3
      },
      "file_extension": ".py",
      "mimetype": "text/x-python",
      "name": "python",
      "nbconvert_exporter": "python",
      "pygments_lexer": "ipython3",
      "version": "3.12.5"
    },
    "colab": {
      "provenance": []
    }
  },
  "nbformat": 4,
  "nbformat_minor": 5
}